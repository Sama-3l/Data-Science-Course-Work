{
 "cells": [
  {
   "cell_type": "code",
   "execution_count": 4,
   "metadata": {},
   "outputs": [
    {
     "name": "stdout",
     "output_type": "stream",
     "text": [
      "[10, 20, 30, 40, 50, 30, 40, 50, 70, 80]\n",
      "[30, 40, 50]\n"
     ]
    }
   ],
   "source": [
    "#q1\n",
    "def union(l1, l2):\n",
    "    return l1 + l2\n",
    "\n",
    "def intersection(l1, l2):\n",
    "    intersection = []\n",
    "    for l in l1:\n",
    "        if(l2.count(l) != 0):\n",
    "            intersection.append(l)\n",
    "    return intersection\n",
    "\n",
    "l1 = [10,20,30,40,50]\n",
    "l2 = [30,40,50,70,80]\n",
    "\n",
    "print(union(l1,l2))\n",
    "print(intersection(l1,l2))\n"
   ]
  },
  {
   "cell_type": "code",
   "execution_count": 20,
   "metadata": {},
   "outputs": [
    {
     "name": "stdout",
     "output_type": "stream",
     "text": [
      "[10, 20, 30, 60, 50, 40, 70, 80, 90]\n"
     ]
    }
   ],
   "source": [
    "#q2\n",
    "\n",
    "def reverseAtIndex(l, index0, index1):\n",
    "    newList = []\n",
    "    for i in range(len(l)):\n",
    "        if i < index0:\n",
    "            newList.append(l[i])\n",
    "        elif i < index1:\n",
    "            seperateList = l[index0:index1]\n",
    "            seperateList.reverse()\n",
    "            newList = newList + seperateList\n",
    "            newList = newList + l[index1:]\n",
    "            break\n",
    "    return newList\n",
    "\n",
    "\n",
    "l = [10,20,30,40,50,60,70,80,90]\n",
    "print(reverseAtIndex(l, 3, 6))"
   ]
  },
  {
   "cell_type": "code",
   "execution_count": 22,
   "metadata": {},
   "outputs": [
    {
     "name": "stdout",
     "output_type": "stream",
     "text": [
      "Not empty\n"
     ]
    }
   ],
   "source": [
    "l = [2]\n",
    "if(len(l) == 0):\n",
    "    print('Empty')\n",
    "else:\n",
    "    print('Not empty')"
   ]
  },
  {
   "cell_type": "code",
   "execution_count": 28,
   "metadata": {},
   "outputs": [
    {
     "name": "stdout",
     "output_type": "stream",
     "text": [
      "[1, 2, 3, 4, 5, 568]\n",
      "[1, 2, 98, 98, 558, 3, 4, 5, 568]\n"
     ]
    }
   ],
   "source": [
    "t = (1,2,3,4,5)\n",
    "t = list(t)\n",
    "t.append(int(input('Enter integer')))\n",
    "print(t)\n",
    "\n",
    "for i in range(3):\n",
    "    t.insert(2, int(input('Enter integer ' + str(i+1))))\n",
    "print(t)"
   ]
  },
  {
   "cell_type": "code",
   "execution_count": 31,
   "metadata": {},
   "outputs": [
    {
     "name": "stdout",
     "output_type": "stream",
     "text": [
      "3\n"
     ]
    }
   ],
   "source": [
    "t = (1,2,3,4,5)\n",
    "print(t.index(4))"
   ]
  },
  {
   "cell_type": "code",
   "execution_count": 33,
   "metadata": {},
   "outputs": [
    {
     "name": "stdout",
     "output_type": "stream",
     "text": [
      "(1, 2, 3, 4, 5, 6, 7, 50)\n"
     ]
    }
   ],
   "source": [
    "l = (1,2,3,4,5,6,7,8)\n",
    "l = list(l)\n",
    "l.pop()\n",
    "l.append(int(input('Enter integer to insert')))\n",
    "l = tuple(l)\n",
    "print(l)"
   ]
  },
  {
   "cell_type": "code",
   "execution_count": 36,
   "metadata": {},
   "outputs": [
    {
     "name": "stdout",
     "output_type": "stream",
     "text": [
      "a = b 5\n",
      "a += b 10\n",
      "a**b 3200000\n",
      "a / b 4.0\n",
      "a % b 0\n",
      "a // b 4\n"
     ]
    }
   ],
   "source": [
    "a = int(input('Enter no 1'))\n",
    "b = int(input('Enter no 2'))\n",
    "t = b\n",
    "v = a\n",
    "\n",
    "a = b\n",
    "print('a = b', a)\n",
    "b = t\n",
    "a += b\n",
    "print('a += b', a)\n",
    "b = t\n",
    "a = v\n",
    "a = a**b\n",
    "print('a**b', a)\n",
    "b = t\n",
    "a = v\n",
    "a = a / b\n",
    "print('a / b', a)\n",
    "b = t\n",
    "a = v\n",
    "a = a % b\n",
    "print('a % b', a)\n",
    "b = t\n",
    "a = v\n",
    "a = a // b\n",
    "print('a // b', a)"
   ]
  },
  {
   "cell_type": "code",
   "execution_count": 37,
   "metadata": {},
   "outputs": [
    {
     "name": "stdout",
     "output_type": "stream",
     "text": [
      "Eligible\n"
     ]
    }
   ],
   "source": [
    "if int(input('Enter age')) >= 18:\n",
    "    print('Eligible')\n",
    "else:\n",
    "    print('Not Eligible')"
   ]
  },
  {
   "cell_type": "code",
   "execution_count": 43,
   "metadata": {},
   "outputs": [
    {
     "name": "stdout",
     "output_type": "stream",
     "text": [
      "[1, 2, 3, 4, 6, 7, 10]\n",
      "[1, 2, 3, 4, 6, 7, 10]\n",
      "[1, 2, 3, 4, 6, 7, 10, 12]\n",
      "[1, 2, 3, 4, 6, 7, 10, 12, 'a', 'b', 'c']\n"
     ]
    }
   ],
   "source": [
    "l = [4,2,7,6,10,1,3]\n",
    "l.sort()\n",
    "print(l)\n",
    "\n",
    "newList = l.copy()\n",
    "print(newList)\n",
    "\n",
    "newList.append(12)\n",
    "print(newList)\n",
    "\n",
    "l2 = ['a', 'b', 'c']\n",
    "newList = newList + l2\n",
    "print(newList)"
   ]
  },
  {
   "cell_type": "code",
   "execution_count": 53,
   "metadata": {},
   "outputs": [
    {
     "name": "stdout",
     "output_type": "stream",
     "text": [
      "Original set {5345, 213, 54342, 35325, 43534, 34543}\n",
      "Added set {5345, 2, 54342, 232, 43534, 34543, 213, 2322133, 35325}\n",
      "Removed set {5345, 54342, 43534, 34543, 213, 35325}\n",
      "54342\n",
      "213\n"
     ]
    }
   ],
   "source": [
    "l = {213,35325,43534,5345,34543,54342}\n",
    "print('Original set',l)\n",
    "l = list(l)\n",
    "\n",
    "l.append(232)\n",
    "l.append(2)\n",
    "l.append(2322133)\n",
    "print('Added set', set(l))\n",
    "\n",
    "l = list(l)\n",
    "l.pop()\n",
    "l.pop()\n",
    "l.pop()\n",
    "l = set(l)\n",
    "print('Removed set',l)\n",
    "print(max(l))\n",
    "print(min(l))"
   ]
  },
  {
   "cell_type": "code",
   "execution_count": 55,
   "metadata": {},
   "outputs": [
    {
     "name": "stdout",
     "output_type": "stream",
     "text": [
      "15\n",
      "120\n",
      "1\n",
      "5\n"
     ]
    }
   ],
   "source": [
    "l = [1,2,3,4,5]\n",
    "s = 0\n",
    "p = 1\n",
    "for i in l:\n",
    "    s = s + i\n",
    "    p = p * i\n",
    "\n",
    "print(s)\n",
    "print(p)\n",
    "print(min(l))\n",
    "print(max(l))"
   ]
  },
  {
   "cell_type": "code",
   "execution_count": 59,
   "metadata": {},
   "outputs": [
    {
     "name": "stdout",
     "output_type": "stream",
     "text": [
      "[('c', 4), ('a', 20), ('b', 440), ('d', 8556)]\n"
     ]
    }
   ],
   "source": [
    "d = {\n",
    "    \"a\" : 20,\n",
    "    \"b\" : 440,\n",
    "    \"c\" : 4,\n",
    "    \"d\" : 8556,\n",
    "}\n",
    "\n",
    "print(sorted(d.items(), key=lambda x:x[1]))"
   ]
  },
  {
   "cell_type": "code",
   "execution_count": 67,
   "metadata": {},
   "outputs": [
    {
     "data": {
      "text/plain": [
       "['R M', 'R S', 'P R', 'H P', 'A A']"
      ]
     },
     "execution_count": 67,
     "metadata": {},
     "output_type": "execute_result"
    }
   ],
   "source": [
    "l = ['Raghvendra Mishra', 'Rishi Srivastava', 'Pushkar Roy', 'Harsh Parihar', 'Ayush Agarwal']\n",
    "get_initials = lambda name: ' '.join([part[0].upper() for part in name.split()])\n",
    "initials_list = list(map(get_initials, l))\n",
    "initials_list"
   ]
  },
  {
   "cell_type": "code",
   "execution_count": 74,
   "metadata": {},
   "outputs": [
    {
     "name": "stdout",
     "output_type": "stream",
     "text": [
      "BYFFI QILFX\n"
     ]
    }
   ],
   "source": [
    "def caesar_cipher(text, shift):\n",
    "    text = text.upper()\n",
    "    text = [*text]\n",
    "    a = []\n",
    "    for ch in text:\n",
    "        if(ch.isalpha()):\n",
    "            if(ord(ch) + shift > 91):\n",
    "                ch = chr(65 + (ord(ch) + shift - 91))\n",
    "            else:\n",
    "                ch = chr(ord(ch) + shift)\n",
    "        a.append(ch)\n",
    "    print(\"\".join(a))\n",
    "\n",
    "caesar_cipher('Hello World', 20)"
   ]
  },
  {
   "cell_type": "code",
   "execution_count": 78,
   "metadata": {},
   "outputs": [
    {
     "name": "stdout",
     "output_type": "stream",
     "text": [
      "Number of  a 5\n",
      "Number of  e 0\n",
      "Number of  i 2\n",
      "Number of  o 0\n",
      "Number of  u 1\n"
     ]
    }
   ],
   "source": [
    "def count_vowels(s):\n",
    "    a = ['a', 'e', 'i', 'o', 'u']\n",
    "    for i in a:\n",
    "        print('Number of ', i, s.count(i))\n",
    "\n",
    "count_vowels(input('Enter text').lower())"
   ]
  },
  {
   "cell_type": "code",
   "execution_count": 84,
   "metadata": {},
   "outputs": [
    {
     "name": "stdout",
     "output_type": "stream",
     "text": [
      "[2, 3, 23, 31]\n"
     ]
    }
   ],
   "source": [
    "def check_prime(n):\n",
    "    f = 0\n",
    "    for i in range(1, n):\n",
    "        if(n % i == 0):\n",
    "            f += 1\n",
    "    return f\n",
    "\n",
    "\n",
    "def prime_factorization(n):\n",
    "    a = []\n",
    "    for i in range(1, n):\n",
    "        if(n % i == 0):\n",
    "            if(check_prime(i) == 1):\n",
    "                a.append(i)\n",
    "    return a\n",
    "\n",
    "num = int(input('Enter number'))\n",
    "factors = prime_factorization(num)\n",
    "if(len(factors)== 0):\n",
    "    print([1, num])\n",
    "else:\n",
    "    print(factors)"
   ]
  },
  {
   "cell_type": "code",
   "execution_count": 9,
   "metadata": {},
   "outputs": [
    {
     "name": "stdout",
     "output_type": "stream",
     "text": [
      "True\n",
      "False\n"
     ]
    }
   ],
   "source": [
    "#q7\n",
    "class ListNode:\n",
    "    def __init__(self, val=0, next=None):\n",
    "        self.val = val\n",
    "        self.next = next\n",
    "\n",
    "def is_palindrome_linked_list(head):\n",
    "    \n",
    "    def reverse_linked_list(node):\n",
    "        prev = None\n",
    "        current = node\n",
    "        while current:\n",
    "            next_node = current.next\n",
    "            current.next = prev\n",
    "            prev = current\n",
    "            current = next_node\n",
    "        return prev\n",
    "    \n",
    "    a = reverse_linked_list(head)\n",
    "    palindrome = True\n",
    "    while head != None:\n",
    "        if(head.val != a.val):\n",
    "            palindrome = False\n",
    "        head = head.next\n",
    "        a = a.next\n",
    "    return palindrome\n",
    "\n",
    "# Example usage:\n",
    "# Create a linked list: 1 -> 2 -> 2 -> 1\n",
    "head = ListNode(1, ListNode(2, ListNode(2, ListNode(1))))\n",
    "print(is_palindrome_linked_list(head))  # Output: True\n",
    "\n",
    "# Create a linked list: 1 -> 2 -> 3 -> 4\n",
    "head = ListNode(1, ListNode(2, ListNode(3, ListNode(4))))\n",
    "print(is_palindrome_linked_list(head))"
   ]
  },
  {
   "cell_type": "code",
   "execution_count": 37,
   "metadata": {},
   "outputs": [
    {
     "name": "stdout",
     "output_type": "stream",
     "text": [
      "False\n"
     ]
    }
   ],
   "source": [
    "#q8\n",
    "a = input('Enter ip')\n",
    "\n",
    "def ipv6(a):\n",
    "    valid1, valid2, valid3 = False, False, False\n",
    "    for n in a:\n",
    "        if (ord(n) >= 48 and ord(n) < 58):\n",
    "            valid1 = True\n",
    "        elif(ord(n) == 58) :\n",
    "            valid1 = True\n",
    "        elif(ord(n) >= 97 and ord(n) < 103):\n",
    "            valid1 = True\n",
    "        else:\n",
    "            valid1 = False\n",
    "            break\n",
    "        \n",
    "    if(valid1):\n",
    "\n",
    "        a = a.split(':')\n",
    "        if(len(a) != 8):\n",
    "            valid2 = False\n",
    "        else:\n",
    "            valid2 = True\n",
    "\n",
    "        if valid2:\n",
    "\n",
    "            for n in a:\n",
    "                if(len(n) > 4):\n",
    "                    valid3 = False\n",
    "                    break\n",
    "                else:\n",
    "                    valid3 = True\n",
    "\n",
    "    return valid1 and valid2 and valid3\n",
    "\n",
    "def ipv4(a):\n",
    "    valid1, valid2, valid3, valid4 = False, False, False, False\n",
    "    for n in a:\n",
    "        if not ((ord(n) >= 48 and ord(n) < 58) or (ord(n) == 46)):\n",
    "            break\n",
    "        else:\n",
    "            valid1 = True\n",
    "\n",
    "    if(valid1):\n",
    "\n",
    "        a = a.split('.')\n",
    "        if(len(a) != 4):\n",
    "            valid2 = False\n",
    "        else:\n",
    "            valid2 = True\n",
    "\n",
    "        if valid2:\n",
    "\n",
    "            for n in a:\n",
    "                if ((int(n) > 0 and n[0] == \"0\") or (int(n) == 0 and n[0] == \"0\" and len(n) > 1)):\n",
    "                    valid3 = False\n",
    "                    break\n",
    "                else:\n",
    "                    valid3 = True\n",
    "\n",
    "                if int(n) > 255:\n",
    "                    valid4 = False\n",
    "                    break\n",
    "                else:\n",
    "                    valid4 = True\n",
    "\n",
    "    return valid1 and valid2 and valid3 and valid4\n",
    "\n",
    "if a.find('.') == -1 and a.find(\":\") != -1:\n",
    "    if ipv6(a):\n",
    "        print('Verified')\n",
    "    else:\n",
    "        print('Wrong ip')\n",
    "elif a.find('.') != -1 and a.find(\":\") == -1:\n",
    "    if ipv4(a):\n",
    "        print('Verified')\n",
    "    else:\n",
    "        print('Wrong ip')\n",
    "else:\n",
    "    print(\"Try again. Error in input\")"
   ]
  },
  {
   "cell_type": "code",
   "execution_count": null,
   "metadata": {},
   "outputs": [],
   "source": [
    "#q9\n",
    "def min_operations_to_make_same(arr):\n",
    "    element_count = {}\n",
    "    for num in arr:\n",
    "        if num in element_count:\n",
    "            element_count[num] += 1\n",
    "        else:\n",
    "            element_count[num] = 1\n",
    "\n",
    "    most_frequent_element = max(element_count, key=element_count.get)\n",
    "\n",
    "    operations_needed = len(arr) - element_count[most_frequent_element]\n",
    "\n",
    "    return operations_needed\n",
    "\n",
    "arr = [1, 2, 2, 3, 1, 2, 4, 4]\n",
    "print(min_operations_to_make_same(arr))"
   ]
  },
  {
   "cell_type": "code",
   "execution_count": null,
   "metadata": {},
   "outputs": [],
   "source": [
    "#q10\n",
    "def are_anagrams(str1, str2):\n",
    "    str1 = str1.replace(\" \", \"\").lower()\n",
    "    str2 = str2.replace(\" \", \"\").lower()\n",
    "\n",
    "    if len(str1) != len(str2):\n",
    "        return False\n",
    "\n",
    "    char_count1 = {}\n",
    "    char_count2 = {}\n",
    "\n",
    "    for ch in str1:\n",
    "        if ch in char_count1:\n",
    "            char_count1[ch] += 1\n",
    "        else:\n",
    "            char_count1[ch] = 1\n",
    "\n",
    "    for ch in str2:\n",
    "        if ch in char_count2:\n",
    "            char_count2[ch] += 1\n",
    "        else:\n",
    "            char_count2[ch] = 1\n",
    "\n",
    "    return char_count1 == char_count2\n",
    "\n",
    "str1 = \"listen\"\n",
    "str2 = \"silent\"\n",
    "print(are_anagrams(str1, str2))"
   ]
  },
  {
   "cell_type": "code",
   "execution_count": null,
   "metadata": {},
   "outputs": [],
   "source": [
    "#q11\n",
    "def binary_search(arr, target):\n",
    "    l = 0\n",
    "    r = len(arr) - 1\n",
    "\n",
    "    while l <= r:\n",
    "        m = l + (r - l) // 2 \n",
    "\n",
    "        if arr[m] == target:\n",
    "            return m  \n",
    "\n",
    "        elif arr[m] > target:\n",
    "            r = m - 1\n",
    "\n",
    "        else:\n",
    "            l = m + 1\n",
    "\n",
    "    return -1\n",
    "\n",
    "a = [1, 2, 3, 4, 5, 6, 7, 8, 9, 10]\n",
    "t = 5\n",
    "result = binary_search(a, t)\n",
    "\n",
    "if result != -1:\n",
    "    print(f\"Element {t} found at index {result}\")\n",
    "else:\n",
    "    print(f\"Element {t} not found in the array\")"
   ]
  },
  {
   "cell_type": "code",
   "execution_count": null,
   "metadata": {},
   "outputs": [],
   "source": []
  },
  {
   "cell_type": "code",
   "execution_count": 41,
   "metadata": {},
   "outputs": [
    {
     "name": "stdout",
     "output_type": "stream",
     "text": [
      "40\n",
      "24850\n"
     ]
    }
   ],
   "source": [
    "#q13\n",
    "def gp(a, r, n):\n",
    "    s = a\n",
    "    for i in range(1, n):\n",
    "        s = s + a + r**i\n",
    "    print(s)\n",
    "\n",
    "def ap(a,d,n):\n",
    "    s = 0\n",
    "    for i in range(n):\n",
    "        s = s + a + i*d\n",
    "    print(s)\n",
    "\n",
    "gp(2,2,5)\n",
    "ap(1,5,100)"
   ]
  },
  {
   "cell_type": "code",
   "execution_count": 45,
   "metadata": {},
   "outputs": [
    {
     "name": "stdout",
     "output_type": "stream",
     "text": [
      "48 is not a happy number.\n"
     ]
    }
   ],
   "source": [
    "#q14\n",
    "def is_happy_number(n):\n",
    "    def get_next(n):\n",
    "        ts = 0\n",
    "        while n > 0:\n",
    "            n, d = divmod(n, 10)\n",
    "            ts += d ** 2\n",
    "        return ts\n",
    "\n",
    "    s = set()\n",
    "    while n != 1 and n not in s:\n",
    "        s.add(n)\n",
    "        n = get_next(n)\n",
    "\n",
    "    return n == 1\n",
    "\n",
    "num = int(input('Enter number'))\n",
    "\n",
    "if is_happy_number(num):\n",
    "    print(f\"{num} is a happy number.\")\n",
    "else:\n",
    "    print(f\"{num} is not a happy number.\")\n"
   ]
  },
  {
   "cell_type": "code",
   "execution_count": null,
   "metadata": {},
   "outputs": [],
   "source": [
    "#q15\n",
    "def is_armstrong_number(num):\n",
    "    def num_digits(n):\n",
    "        c = 0\n",
    "        while n > 0:\n",
    "            n, _ = divmod(n, 10)\n",
    "            c += 1\n",
    "        return c\n",
    "\n",
    "    original_num = num\n",
    "    p = num_digits(num)\n",
    "    ts = 0\n",
    "\n",
    "    while num > 0:\n",
    "        digit = num % 10\n",
    "        ts += digit ** p\n",
    "        num //= 10\n",
    "\n",
    "    return ts == original_num\n",
    "\n",
    "n = int(input('Enter number'))\n",
    "\n",
    "if is_armstrong_number(n):\n",
    "    print(f\"{n} is an Armstrong number.\")\n",
    "else:\n",
    "    print(f\"{n} is not an Armstrong number.\")\n"
   ]
  }
 ],
 "metadata": {
  "kernelspec": {
   "display_name": "Python 3",
   "language": "python",
   "name": "python3"
  },
  "language_info": {
   "codemirror_mode": {
    "name": "ipython",
    "version": 3
   },
   "file_extension": ".py",
   "mimetype": "text/x-python",
   "name": "python",
   "nbconvert_exporter": "python",
   "pygments_lexer": "ipython3",
   "version": "3.10.0"
  },
  "orig_nbformat": 4
 },
 "nbformat": 4,
 "nbformat_minor": 2
}
