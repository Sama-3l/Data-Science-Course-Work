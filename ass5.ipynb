{
 "cells": [
  {
   "cell_type": "code",
   "execution_count": 9,
   "metadata": {},
   "outputs": [
    {
     "name": "stdout",
     "output_type": "stream",
     "text": [
      "[2]\n"
     ]
    }
   ],
   "source": [
    "class CustomSet:\n",
    "    def __init__(self):\n",
    "        self.items = []\n",
    "\n",
    "    def append(self, item):\n",
    "        if(self.items.count(item) == 0):\n",
    "            self.items.append(item)\n",
    "\n",
    "    def remove(self, item):\n",
    "        self.items.remove(item)\n",
    "\n",
    "    def find(self, item):\n",
    "        return self.items.index(item)\n",
    "    \n",
    "    def print(self):\n",
    "        print(self.items)"
   ]
  },
  {
   "cell_type": "code",
   "execution_count": null,
   "metadata": {},
   "outputs": [],
   "source": [
    "class Account:\n",
    "\n",
    "    def __init__(self):\n",
    "        self.balance = 0\n",
    "\n",
    "    def deposit(self, amount):\n",
    "        self.balance += amount\n",
    "\n",
    "    def withdraw(self, amount):\n",
    "        if(self.balance - amount >= 0):\n",
    "            self.balance += amount\n",
    "    \n",
    "    def print(self):\n",
    "        print(\"Your account balance is: \", self.balance)"
   ]
  },
  {
   "cell_type": "code",
   "execution_count": null,
   "metadata": {},
   "outputs": [],
   "source": [
    "class Student:\n",
    "\n",
    "    def __init__(self, name, age, grades):\n",
    "        self.name = \"\"\n",
    "        self.age = 0\n",
    "        self.grades = []\n",
    "\n",
    "    def get(self):\n",
    "        return self.name, self.age, self.grades\n",
    "    \n",
    "    def set(self, name, age, grades):\n",
    "        self.name = name\n",
    "        self.age = age\n",
    "        self.grades = grades\n",
    "\n",
    "    def gpa(self):\n",
    "        return sum(self.grades) / len(self.grades)\n"
   ]
  },
  {
   "cell_type": "code",
   "execution_count": null,
   "metadata": {},
   "outputs": [],
   "source": [
    "class Car:\n",
    "\n",
    "    def __init__(self):\n",
    "        self.make = \"\"\n",
    "        self.model = \"\"\n",
    "        self.year = 0\n",
    "\n",
    "    def get(self):\n",
    "        return self.make, self.model, self.year\n",
    "    \n",
    "    def set(self, make, model, year):\n",
    "        self.make = make\n",
    "        self.model = model\n",
    "        self.year = year\n",
    "\n",
    "    def start_the_car(self):\n",
    "        print(\"Car started. VROOM VROOM\")\n",
    "\n",
    "    def stop_the_car(self):\n",
    "        print(\"Car stopped\")\n",
    "\n",
    "    def change_gears(self, gear):\n",
    "        print(\"Gear Changed to\", gear)"
   ]
  },
  {
   "cell_type": "code",
   "execution_count": 20,
   "metadata": {},
   "outputs": [
    {
     "name": "stdout",
     "output_type": "stream",
     "text": [
      "Character attacks with attack  10000\n"
     ]
    }
   ],
   "source": [
    "class Character:\n",
    "    \n",
    "    def __init__(self):\n",
    "        self.name = \"\"\n",
    "        self.health = 0\n",
    "        self.attack = 0\n",
    "        self.defense = 0\n",
    "\n",
    "    def get(self):\n",
    "        return self.name, self.health, self.attack, self.defense\n",
    "    \n",
    "    def set(self, name, health, attack, defense):\n",
    "        self.name = name\n",
    "        self.health = health\n",
    "        self.attack = attack\n",
    "        self.defense = defense\n",
    "\n",
    "    def move(self):\n",
    "        print(\"Character moves\")\n",
    "\n",
    "    def attack_them(self):\n",
    "        print(\"Character attacks with attack \", self.attack)\n",
    "\n",
    "    def defend_me(self, attack):\n",
    "        print(\"Character defense with defense \", self.defense, \" against \", attack)\n",
    "\n",
    "samael = Character()\n",
    "samael.set(\"Samael\", 500, 10000,500)\n",
    "samael.attack_them()\n",
    "samael.defense(500)"
   ]
  },
  {
   "cell_type": "code",
   "execution_count": null,
   "metadata": {},
   "outputs": [],
   "source": [
    "class Cart:\n",
    "    \n",
    "    def __init__(self):\n",
    "        self.items = []\n",
    "    \n",
    "    def add(self, item):\n",
    "        self.items.append(item)\n",
    "\n",
    "    def remove(self, item):\n",
    "        self.items.remove(item)\n",
    "\n",
    "    def calculate_total_price(self):\n",
    "        ts = 0\n",
    "        for item in self.items:\n",
    "            ts += item['price']\n",
    "        return ts\n",
    "\n",
    "    def print(self):\n",
    "        print(self.items)\n",
    "\n",
    "cart = Cart()\n",
    "cart.add({\n",
    "    \"name\" : \"Milk\",\n",
    "    \"price\" : 100\n",
    "})"
   ]
  },
  {
   "cell_type": "code",
   "execution_count": 25,
   "metadata": {},
   "outputs": [
    {
     "name": "stdout",
     "output_type": "stream",
     "text": [
      "[{'task': 'Get Milk', 'complete': True}, {'task': 'Dont get milk', 'complete': False}]\n"
     ]
    }
   ],
   "source": [
    "class To_Do_List:\n",
    "    \n",
    "    def __init__(self):\n",
    "        self.items = []\n",
    "    \n",
    "    def add(self, item):\n",
    "        if(self.items.count(item) == 0):\n",
    "            self.items.append(item)\n",
    "\n",
    "    def remove(self, item):\n",
    "        self.items.remove(item)\n",
    "\n",
    "    def mark_as_done(self, item):\n",
    "        self.items[self.items.index(item)]['complete'] = True\n",
    "\n",
    "    def print(self):\n",
    "        print(self.items)"
   ]
  },
  {
   "cell_type": "code",
   "execution_count": null,
   "metadata": {},
   "outputs": [],
   "source": [
    "class CustomDictionary:\n",
    "    \n",
    "    def __init__(self):\n",
    "        self.words = []\n",
    "    \n",
    "    def add(self, word):\n",
    "        if(self.words.count(word) == 0):\n",
    "            self.words.append(word)\n",
    "\n",
    "    def find(self, word):\n",
    "        self.words.index(word) \n",
    "\n",
    "    def print(self):\n",
    "        print(self.words)"
   ]
  },
  {
   "cell_type": "code",
   "execution_count": null,
   "metadata": {},
   "outputs": [],
   "source": [
    "class Stack:\n",
    "    def __init__(self):\n",
    "        self.items = []\n",
    "\n",
    "    def is_empty(self):\n",
    "        return len(self.items) == 0\n",
    "\n",
    "    def push(self, item):\n",
    "        self.items.append(item)\n",
    "\n",
    "    def pop(self):\n",
    "        if not self.is_empty():\n",
    "            return self.items.pop()\n",
    "        else:\n",
    "            print(\"Stack is empty. Cannot pop.\")\n",
    "\n",
    "    def peek(self):\n",
    "        if not self.is_empty():\n",
    "            return self.items[-1]\n",
    "        else:\n",
    "            print(\"Stack is empty. Cannot peek.\")\n",
    "\n",
    "    def print_stack(self):\n",
    "        if not self.is_empty():\n",
    "            print(\"Stack:\", self.items)\n",
    "        else:\n",
    "            print(\"Stack is empty.\")"
   ]
  },
  {
   "cell_type": "code",
   "execution_count": 38,
   "metadata": {},
   "outputs": [],
   "source": [
    "import keyboard, time\n",
    "\n",
    "a = '''\n",
    "import numpy as np\n",
    "\n",
    "array_1d = np.arange(10)\n",
    "\n",
    "# Reshape the 1D array into a 2D array with 2 rows\n",
    "array_2d = array_1d.reshape(2, -1)\n",
    "\n",
    "print(array_2d)\n",
    "print('\\n\\n')\n",
    "print(np.random.randint(0, 11, size=(3, 3)))\n",
    "'''\n",
    "time.sleep(2)\n",
    "keyboard.write(a)"
   ]
  }
 ],
 "metadata": {
  "kernelspec": {
   "display_name": "Python 3",
   "language": "python",
   "name": "python3"
  },
  "language_info": {
   "codemirror_mode": {
    "name": "ipython",
    "version": 3
   },
   "file_extension": ".py",
   "mimetype": "text/x-python",
   "name": "python",
   "nbconvert_exporter": "python",
   "pygments_lexer": "ipython3",
   "version": "3.10.0"
  },
  "orig_nbformat": 4
 },
 "nbformat": 4,
 "nbformat_minor": 2
}
