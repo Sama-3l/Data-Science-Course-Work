{
 "cells": [
  {
   "cell_type": "code",
   "execution_count": 9,
   "metadata": {},
   "outputs": [
    {
     "name": "stdout",
     "output_type": "stream",
     "text": [
      "True\n"
     ]
    }
   ],
   "source": [
    "a = 30\n",
    "b = 20\n",
    "print('addition:', a + b)"
   ]
  },
  {
   "cell_type": "code",
   "execution_count": 3,
   "id": "8d7aa3dc",
   "metadata": {},
   "outputs": [
    {
     "data": {
      "text/plain": [
       "(6, 7, 8, 9, 10, 11)"
      ]
     },
     "execution_count": 3,
     "metadata": {},
     "output_type": "execute_result"
    }
   ],
   "source": [
    "a = [1,2,3,4,5,6]\n",
    "newList = map(lambda x : x + 5, a)\n",
    "tuple(newList)"
   ]
  },
  {
   "cell_type": "code",
   "execution_count": null,
   "id": "72bf5347",
   "metadata": {},
   "outputs": [],
   "source": [
    "import keyboard, time\n",
    "a = '''\n",
    "class Account:\n",
    "\n",
    "    def __init__(self):\n",
    "        self.balance = 0\n",
    "\n",
    "    def deposit(self, amount):\n",
    "        self.balance += amount\n",
    "\n",
    "    def withdraw(self, amount):\n",
    "        if(self.balance - amount >= 0):\n",
    "            self.balance += amount\n",
    "    \n",
    "    def print(self):\n",
    "        print(\"Your account balance is: \", self.balance)\n",
    "'''\n",
    "time.sleep(3)\n",
    "keyboard.write(a)"
   ]
  }
 ],
 "metadata": {
  "kernelspec": {
   "display_name": "Python 3",
   "language": "python",
   "name": "python3"
  },
  "language_info": {
   "codemirror_mode": {
    "name": "ipython",
    "version": 3
   },
   "file_extension": ".py",
   "mimetype": "text/x-python",
   "name": "python",
   "nbconvert_exporter": "python",
   "pygments_lexer": "ipython3",
   "version": "3.10.0"
  }
 },
 "nbformat": 4,
 "nbformat_minor": 5
}
