{
 "cells": [
  {
   "cell_type": "code",
   "execution_count": 2,
   "metadata": {},
   "outputs": [
    {
     "name": "stdout",
     "output_type": "stream",
     "text": [
      "<class 'int'>\n",
      "<class 'str'>\n",
      "<class 'float'>\n",
      "<class 'bool'>\n",
      "<class 'complex'>\n"
     ]
    }
   ],
   "source": [
    "print(type(2))\n",
    "print(type('hello'))\n",
    "print(type(2.34))\n",
    "print(type(True))\n",
    "print(type(3+1j))"
   ]
  },
  {
   "cell_type": "code",
   "execution_count": 3,
   "metadata": {},
   "outputs": [
    {
     "data": {
      "text/plain": [
       "('2.5', '486')"
      ]
     },
     "execution_count": 3,
     "metadata": {},
     "output_type": "execute_result"
    }
   ],
   "source": [
    "p = 2.5\n",
    "q = 486\n",
    "p, q = str(p), str(q)\n",
    "p, q"
   ]
  },
  {
   "cell_type": "code",
   "execution_count": 82,
   "metadata": {},
   "outputs": [
    {
     "data": {
      "text/plain": [
       "2"
      ]
     },
     "execution_count": 82,
     "metadata": {},
     "output_type": "execute_result"
    }
   ],
   "source": [
    "import random\n",
    "random.randint(1, 10)"
   ]
  },
  {
   "cell_type": "code",
   "execution_count": 12,
   "metadata": {},
   "outputs": [
    {
     "name": "stdout",
     "output_type": "stream",
     "text": [
      "Hello\n",
      "Is this\n",
      "relatable\n",
      "Or is this\n",
      "a new \n",
      "experience?\n"
     ]
    }
   ],
   "source": [
    "a = '''Hello\n",
    "Is this\n",
    "relatable\n",
    "Or is this\n",
    "a new \n",
    "experience?'''\n",
    "print(a)"
   ]
  },
  {
   "cell_type": "code",
   "execution_count": 13,
   "metadata": {},
   "outputs": [
    {
     "name": "stdout",
     "output_type": "stream",
     "text": [
      "l\n"
     ]
    }
   ],
   "source": [
    "x = 'hello world'\n",
    "print(x[2])"
   ]
  },
  {
   "cell_type": "code",
   "execution_count": 15,
   "metadata": {},
   "outputs": [
    {
     "name": "stdout",
     "output_type": "stream",
     "text": [
      "IIITDM KANCHEEPURAM\n",
      "PYTHON\n"
     ]
    }
   ],
   "source": [
    "x = 'iiitdm kancheepuram'\n",
    "print(x.upper())\n",
    "y = 'python'\n",
    "print(y.upper())"
   ]
  },
  {
   "cell_type": "code",
   "execution_count": 83,
   "metadata": {},
   "outputs": [
    {
     "data": {
      "text/plain": [
       "'dello worlH'"
      ]
     },
     "execution_count": 83,
     "metadata": {},
     "output_type": "execute_result"
    }
   ],
   "source": [
    "x = input('enter string')\n",
    "x = [*x]\n",
    "x[0], x[-1] = x[-1], x[0]\n",
    "x\n",
    "x = \"\".join(x)\n",
    "x"
   ]
  },
  {
   "cell_type": "code",
   "execution_count": 24,
   "metadata": {},
   "outputs": [
    {
     "name": "stdout",
     "output_type": "stream",
     "text": [
      "HELLO WORLD OF OMPUTERS\n",
      "hello world of omputers\n"
     ]
    }
   ],
   "source": [
    "a = input('Enter input')\n",
    "print(a.upper())\n",
    "print(a.lower())"
   ]
  },
  {
   "cell_type": "code",
   "execution_count": 25,
   "metadata": {},
   "outputs": [
    {
     "name": "stdout",
     "output_type": "stream",
     "text": [
      "even\n"
     ]
    }
   ],
   "source": [
    "a = int(input('enter number'))\n",
    "if(a % 2 == 0):\n",
    "    print(\"even\")\n",
    "else:\n",
    "    print(\"odd\")"
   ]
  },
  {
   "cell_type": "code",
   "execution_count": 26,
   "metadata": {},
   "outputs": [
    {
     "name": "stdout",
     "output_type": "stream",
     "text": [
      "50\n"
     ]
    }
   ],
   "source": [
    "a = int(input('enter number 1'))\n",
    "b = int(input('enter number 2'))\n",
    "c = int(input('enter number 3'))\n",
    "\n",
    "print(max(a,b,c))"
   ]
  },
  {
   "cell_type": "code",
   "execution_count": 28,
   "metadata": {},
   "outputs": [
    {
     "name": "stdout",
     "output_type": "stream",
     "text": [
      "Wet\n"
     ]
    }
   ],
   "source": [
    "a = input('Enter string')\n",
    "print(a[0] + a[1] + a[-1])"
   ]
  },
  {
   "cell_type": "code",
   "execution_count": 30,
   "metadata": {},
   "outputs": [
    {
     "data": {
      "text/plain": [
       "'you are a good person!'"
      ]
     },
     "execution_count": 30,
     "metadata": {},
     "output_type": "execute_result"
    }
   ],
   "source": [
    "str = 'you are a good person.'\n",
    "str = str.replace(\".\", \"!\")\n",
    "str"
   ]
  },
  {
   "cell_type": "code",
   "execution_count": 31,
   "metadata": {},
   "outputs": [
    {
     "name": "stdout",
     "output_type": "stream",
     "text": [
      "11\n"
     ]
    }
   ],
   "source": [
    "str = 'The best revenge is massive success'\n",
    "print(str.index('v'))"
   ]
  },
  {
   "cell_type": "code",
   "execution_count": 36,
   "metadata": {},
   "outputs": [
    {
     "name": "stdout",
     "output_type": "stream",
     "text": [
      "pwr\n"
     ]
    }
   ],
   "source": [
    "str = input('Enter string')\n",
    "print(str[0] + str[len(str) // 2] + str[-1])"
   ]
  },
  {
   "cell_type": "code",
   "execution_count": 62,
   "metadata": {},
   "outputs": [
    {
     "name": "stdout",
     "output_type": "stream",
     "text": [
      "Palindrome\n"
     ]
    }
   ],
   "source": [
    "str = input('Enter string')\n",
    "strList = [*str]\n",
    "strList.reverse()\n",
    "rev = \"\".join(strList)\n",
    "if(str == rev):\n",
    "    print('Palindrome')\n",
    "else:\n",
    "    print('Not Palindrome')"
   ]
  },
  {
   "cell_type": "code",
   "execution_count": 43,
   "metadata": {},
   "outputs": [
    {
     "name": "stdout",
     "output_type": "stream",
     "text": [
      "True\n"
     ]
    }
   ],
   "source": [
    "txt = 'The best things in life are free'\n",
    "print(txt.__contains__('free'))"
   ]
  },
  {
   "cell_type": "code",
   "execution_count": 64,
   "metadata": {},
   "outputs": [
    {
     "name": "stdout",
     "output_type": "stream",
     "text": [
      "[2, 3, 452, 4, 5, 6, 7, 8]\n",
      "[2, 3, 452, 4, 5, 6, 7, 8, 6]\n",
      "[2, 3, 452, 4, 5, 6, 7, 8]\n",
      "[8, 7, 6, 5, 4, 452, 3, 2]\n"
     ]
    }
   ],
   "source": [
    "#sample list\n",
    "a = [2,3,4,5,6,7,8]\n",
    "x = int(input('Enter integer to place at index'))\n",
    "i = int(input(f'Enter index < {len(a) - 1}'))\n",
    "a.insert(i, x)\n",
    "print(a)\n",
    "x = int(input('Enter integer to place at end'))\n",
    "a.append(x)\n",
    "print(a)\n",
    "a.pop()\n",
    "print(a)\n",
    "a.reverse()\n",
    "print(a)"
   ]
  },
  {
   "cell_type": "code",
   "execution_count": 88,
   "metadata": {},
   "outputs": [
    {
     "name": "stdout",
     "output_type": "stream",
     "text": [
      "Prime\n"
     ]
    }
   ],
   "source": [
    "n = int(input('Enter number'))\n",
    "t = 0\n",
    "for i in range(1, n):\n",
    "    if(n % i == 0):\n",
    "        t += 1\n",
    "if(t > 1):\n",
    "    print('Not prime')\n",
    "else:\n",
    "    print('Prime')"
   ]
  },
  {
   "cell_type": "code",
   "execution_count": 72,
   "metadata": {},
   "outputs": [
    {
     "name": "stdout",
     "output_type": "stream",
     "text": [
      "0 \n",
      "1\n",
      "1\n",
      "2\n",
      "3\n",
      "5\n",
      "8\n",
      "13\n",
      "21\n",
      "34\n"
     ]
    }
   ],
   "source": [
    "a = 1\n",
    "b = 0\n",
    "print('0', '\\n' + '1')\n",
    "for i in range(8):\n",
    "    t = a\n",
    "    a = a + b\n",
    "    b = t\n",
    "    print(a)"
   ]
  },
  {
   "cell_type": "code",
   "execution_count": 79,
   "metadata": {},
   "outputs": [
    {
     "data": {
      "text/plain": [
       "{'g': 2, 'o': 3, 'l': 1, 'e': 1, '.': 1, 'c': 1, 'm': 1}"
      ]
     },
     "execution_count": 79,
     "metadata": {},
     "output_type": "execute_result"
    }
   ],
   "source": [
    "str = input('Enter string')\n",
    "dict = {}\n",
    "for l in str:\n",
    "    dict[l] = 0\n",
    "for l in str:\n",
    "    dict[l] = dict[l] + 1\n",
    "dict"
   ]
  }
 ],
 "metadata": {
  "kernelspec": {
   "display_name": "Python 3",
   "language": "python",
   "name": "python3"
  },
  "language_info": {
   "codemirror_mode": {
    "name": "ipython",
    "version": 3
   },
   "file_extension": ".py",
   "mimetype": "text/x-python",
   "name": "python",
   "nbconvert_exporter": "python",
   "pygments_lexer": "ipython3",
   "version": "3.10.0"
  },
  "orig_nbformat": 4
 },
 "nbformat": 4,
 "nbformat_minor": 2
}
