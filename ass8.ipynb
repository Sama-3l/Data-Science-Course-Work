{
 "cells": [
  {
   "cell_type": "code",
   "execution_count": 9,
   "metadata": {},
   "outputs": [
    {
     "name": "stdout",
     "output_type": "stream",
     "text": [
      "(3, 3)\n",
      "  fstname lstname mobno\n",
      "0   Virat   Kohli  1223\n",
      "1     Kim      Jo  4566\n",
      "  fstname lstname mobno\n",
      "1     Kim      Jo  4566\n",
      "2    Nick    Fury  7890\n"
     ]
    },
    {
     "data": {
      "text/html": [
       "<div>\n",
       "<style scoped>\n",
       "    .dataframe tbody tr th:only-of-type {\n",
       "        vertical-align: middle;\n",
       "    }\n",
       "\n",
       "    .dataframe tbody tr th {\n",
       "        vertical-align: top;\n",
       "    }\n",
       "\n",
       "    .dataframe thead th {\n",
       "        text-align: right;\n",
       "    }\n",
       "</style>\n",
       "<table border=\"1\" class=\"dataframe\">\n",
       "  <thead>\n",
       "    <tr style=\"text-align: right;\">\n",
       "      <th></th>\n",
       "      <th>fstname</th>\n",
       "      <th>lstname</th>\n",
       "      <th>mobno</th>\n",
       "    </tr>\n",
       "  </thead>\n",
       "  <tbody>\n",
       "    <tr>\n",
       "      <th>0</th>\n",
       "      <td>Virat</td>\n",
       "      <td>Kohli</td>\n",
       "      <td>1223</td>\n",
       "    </tr>\n",
       "    <tr>\n",
       "      <th>1</th>\n",
       "      <td>Kim</td>\n",
       "      <td>Jo</td>\n",
       "      <td>4566</td>\n",
       "    </tr>\n",
       "    <tr>\n",
       "      <th>2</th>\n",
       "      <td>Nick</td>\n",
       "      <td>Fury</td>\n",
       "      <td>7890</td>\n",
       "    </tr>\n",
       "  </tbody>\n",
       "</table>\n",
       "</div>"
      ],
      "text/plain": [
       "  fstname lstname mobno\n",
       "0   Virat   Kohli  1223\n",
       "1     Kim      Jo  4566\n",
       "2    Nick    Fury  7890"
      ]
     },
     "execution_count": 9,
     "metadata": {},
     "output_type": "execute_result"
    }
   ],
   "source": [
    "import pandas as pd\n",
    "\n",
    "a = {\n",
    "    'fstname' : [\"Virat\", \"Kim\", \"Nick\"],\n",
    "    'lstname' : [\"Kohli\", \"Jo\", \"Fury\"],\n",
    "    'mobno' : [\"1223\", \"4566\", \"7890\"],\n",
    "}\n",
    "df = pd.DataFrame(a)\n",
    "print(df.shape)\n",
    "print(df.head(2))\n",
    "print(df.tail(2))\n",
    "df"
   ]
  },
  {
   "cell_type": "code",
   "execution_count": 13,
   "metadata": {},
   "outputs": [
    {
     "name": "stdout",
     "output_type": "stream",
     "text": [
      "  key A_x B_x A_y B_y\n",
      "0  K1  A1  B1  C0  D0\n",
      "1  K2  A2  B2  C1  D1\n",
      "2  K3  A3  B3  C2  D2\n",
      "  key  A_x  B_x  A_y  B_y\n",
      "0  K0   A0   B0  NaN  NaN\n",
      "1  K1   A1   B1   C0   D0\n",
      "2  K2   A2   B2   C1   D1\n",
      "3  K3   A3   B3   C2   D2\n",
      "4  K4  NaN  NaN   C3   D3\n",
      "   employee_id     name   salary\n",
      "0            1    Alice  60000.0\n",
      "1            2      Bob  70000.0\n",
      "2            3  Charlie  80000.0\n",
      "3            4    David      NaN\n",
      "   employee_id     name  salary\n",
      "0            1    Alice   60000\n",
      "1            2      Bob   70000\n",
      "2            3  Charlie   80000\n",
      "3            5      NaN   90000\n"
     ]
    }
   ],
   "source": [
    "df1 = {'key': ['K0', 'K1', 'K2', 'K3'],'A': ['A0', 'A1', 'A2', 'A3'], 'B': ['B0', 'B1', 'B2', 'B3']}\n",
    "df2 = {'key': ['K1', 'K2', 'K3', 'K4'],'A': ['C0', 'C1', 'C2', 'C3'], 'B': ['D0', 'D1', 'D2', 'D3']}\n",
    "\n",
    "df1 = pd.DataFrame(df1)\n",
    "df2 = pd.DataFrame(df2)\n",
    "\n",
    "result_inner = pd.merge(df1, df2, on='key', how='inner')\n",
    "result_outer = pd.merge(df1, df2, on='key', how='outer')\n",
    "print(result_inner)\n",
    "print(result_outer)\n",
    "\n",
    "employees = {'employee_id': [1, 2, 3, 4],'name': ['Alice', 'Bob', 'Charlie', 'David']}\n",
    "salaries= {'employee_id': [1, 2, 3, 5],  'salary': [60000, 70000, 80000, 90000]}\n",
    "\n",
    "df1 = pd.DataFrame(employees)\n",
    "df2 = pd.DataFrame(salaries)\n",
    "\n",
    "result_left = pd.merge(df1, df2, on='employee_id', how='left')\n",
    "result_right = pd.merge(df1, df2, on='employee_id', how='right')\n",
    "print(result_left)\n",
    "print(result_right)"
   ]
  },
  {
   "cell_type": "code",
   "execution_count": 48,
   "metadata": {},
   "outputs": [
    {
     "name": "stderr",
     "output_type": "stream",
     "text": [
      "C:\\Users\\raghv\\AppData\\Local\\Temp\\ipykernel_1512\\4094273804.py:9: SettingWithCopyWarning: \n",
      "A value is trying to be set on a copy of a slice from a DataFrame\n",
      "\n",
      "See the caveats in the documentation: https://pandas.pydata.org/pandas-docs/stable/user_guide/indexing.html#returning-a-view-versus-a-copy\n",
      "  df.Age[(df.Age) > 30] = 100\n"
     ]
    },
    {
     "data": {
      "text/html": [
       "<div>\n",
       "<style scoped>\n",
       "    .dataframe tbody tr th:only-of-type {\n",
       "        vertical-align: middle;\n",
       "    }\n",
       "\n",
       "    .dataframe tbody tr th {\n",
       "        vertical-align: top;\n",
       "    }\n",
       "\n",
       "    .dataframe thead th {\n",
       "        text-align: right;\n",
       "    }\n",
       "</style>\n",
       "<table border=\"1\" class=\"dataframe\">\n",
       "  <thead>\n",
       "    <tr style=\"text-align: right;\">\n",
       "      <th></th>\n",
       "      <th>Name</th>\n",
       "      <th>Age</th>\n",
       "      <th>Salary</th>\n",
       "    </tr>\n",
       "  </thead>\n",
       "  <tbody>\n",
       "    <tr>\n",
       "      <th>0</th>\n",
       "      <td>John</td>\n",
       "      <td>45.0</td>\n",
       "      <td>80000</td>\n",
       "    </tr>\n",
       "    <tr>\n",
       "      <th>1</th>\n",
       "      <td>Jane</td>\n",
       "      <td>0.0</td>\n",
       "      <td>30000</td>\n",
       "    </tr>\n",
       "    <tr>\n",
       "      <th>2</th>\n",
       "      <td>Bob</td>\n",
       "      <td>100.0</td>\n",
       "      <td>45000</td>\n",
       "    </tr>\n",
       "    <tr>\n",
       "      <th>3</th>\n",
       "      <td>Alice</td>\n",
       "      <td>100.0</td>\n",
       "      <td>30000</td>\n",
       "    </tr>\n",
       "  </tbody>\n",
       "</table>\n",
       "</div>"
      ],
      "text/plain": [
       "    Name    Age  Salary\n",
       "0   John   45.0   80000\n",
       "1   Jane    0.0   30000\n",
       "2    Bob  100.0   45000\n",
       "3  Alice  100.0   30000"
      ]
     },
     "execution_count": 48,
     "metadata": {},
     "output_type": "execute_result"
    }
   ],
   "source": [
    "a = {\n",
    "    \"Name\" : [\"John\", \"Jane\", \"Bob\", \"Alice\"],\n",
    "    \"Age\" : [25, None, 55, 40],\n",
    "    \"Salary\" : [25000, 30000, 45000, 30000]\n",
    "}\n",
    "\n",
    "df = pd.DataFrame(a)\n",
    "df = df.fillna(0)\n",
    "df.Age[(df.Age) > 30] = 100\n",
    "\n",
    "df.loc[df['Name'] == 'John', 'Age'] = 45\n",
    "df.loc[df['Name'] == 'John', 'Salary'] = 80000\n",
    "df"
   ]
  },
  {
   "cell_type": "code",
   "execution_count": 53,
   "metadata": {},
   "outputs": [
    {
     "data": {
      "text/html": [
       "<div>\n",
       "<style scoped>\n",
       "    .dataframe tbody tr th:only-of-type {\n",
       "        vertical-align: middle;\n",
       "    }\n",
       "\n",
       "    .dataframe tbody tr th {\n",
       "        vertical-align: top;\n",
       "    }\n",
       "\n",
       "    .dataframe thead th {\n",
       "        text-align: right;\n",
       "    }\n",
       "</style>\n",
       "<table border=\"1\" class=\"dataframe\">\n",
       "  <thead>\n",
       "    <tr style=\"text-align: right;\">\n",
       "      <th></th>\n",
       "      <th>fullname</th>\n",
       "    </tr>\n",
       "  </thead>\n",
       "  <tbody>\n",
       "    <tr>\n",
       "      <th>0</th>\n",
       "      <td>John Adam</td>\n",
       "    </tr>\n",
       "    <tr>\n",
       "      <th>1</th>\n",
       "      <td>Nilly Walker</td>\n",
       "    </tr>\n",
       "  </tbody>\n",
       "</table>\n",
       "</div>"
      ],
      "text/plain": [
       "       fullname\n",
       "0     John Adam\n",
       "1  Nilly Walker"
      ]
     },
     "execution_count": 53,
     "metadata": {},
     "output_type": "execute_result"
    }
   ],
   "source": [
    "a = {\n",
    "    \"first_name\" : [\"John\", \"Nilly\"],\n",
    "    \"last_name\" : [\"Adam\",  \"Walker\"]\n",
    "}\n",
    "\n",
    "df = pd.DataFrame(a)\n",
    "ndf = pd.DataFrame()\n",
    "ndf['fullname'] = df['first_name'] + \" \" + df['last_name']\n",
    "ndf"
   ]
  },
  {
   "cell_type": "code",
   "execution_count": 112,
   "metadata": {},
   "outputs": [
    {
     "data": {
      "text/html": [
       "<div>\n",
       "<style scoped>\n",
       "    .dataframe tbody tr th:only-of-type {\n",
       "        vertical-align: middle;\n",
       "    }\n",
       "\n",
       "    .dataframe tbody tr th {\n",
       "        vertical-align: top;\n",
       "    }\n",
       "\n",
       "    .dataframe thead th {\n",
       "        text-align: right;\n",
       "    }\n",
       "</style>\n",
       "<table border=\"1\" class=\"dataframe\">\n",
       "  <thead>\n",
       "    <tr style=\"text-align: right;\">\n",
       "      <th></th>\n",
       "      <th>length</th>\n",
       "      <th>width</th>\n",
       "      <th>Area</th>\n",
       "    </tr>\n",
       "  </thead>\n",
       "  <tbody>\n",
       "    <tr>\n",
       "      <th>0</th>\n",
       "      <td>4</td>\n",
       "      <td>2.0</td>\n",
       "      <td>8.0</td>\n",
       "    </tr>\n",
       "    <tr>\n",
       "      <th>1</th>\n",
       "      <td>5</td>\n",
       "      <td>3.0</td>\n",
       "      <td>15.0</td>\n",
       "    </tr>\n",
       "    <tr>\n",
       "      <th>2</th>\n",
       "      <td>6</td>\n",
       "      <td>2.5</td>\n",
       "      <td>15.0</td>\n",
       "    </tr>\n",
       "    <tr>\n",
       "      <th>3</th>\n",
       "      <td>7</td>\n",
       "      <td>4.0</td>\n",
       "      <td>28.0</td>\n",
       "    </tr>\n",
       "    <tr>\n",
       "      <th>4</th>\n",
       "      <td>8</td>\n",
       "      <td>3.5</td>\n",
       "      <td>28.0</td>\n",
       "    </tr>\n",
       "  </tbody>\n",
       "</table>\n",
       "</div>"
      ],
      "text/plain": [
       "   length  width  Area\n",
       "0       4    2.0   8.0\n",
       "1       5    3.0  15.0\n",
       "2       6    2.5  15.0\n",
       "3       7    4.0  28.0\n",
       "4       8    3.5  28.0"
      ]
     },
     "execution_count": 112,
     "metadata": {},
     "output_type": "execute_result"
    }
   ],
   "source": [
    "a = {\n",
    "    \"length\" : [4,5,6,7,8],\n",
    "    \"width\" : [2,3,2.5,4,3.5]\n",
    "}\n",
    "\n",
    "df = pd.DataFrame(a)\n",
    "\n",
    "def area(df):\n",
    "    a = []\n",
    "    for i in range(df.shape[0]):\n",
    "        area = df.loc[i][0] * df.loc[i][1]\n",
    "        a.append(area)\n",
    "    return a\n",
    "\n",
    "df['Area'] = area(df)\n",
    "df"
   ]
  },
  {
   "cell_type": "code",
   "execution_count": 79,
   "metadata": {},
   "outputs": [
    {
     "name": "stdout",
     "output_type": "stream",
     "text": [
      "  name  Age  Score\n",
      "2  Bob  NaN   75.0\n",
      "   name   Age  Score\n",
      "1  Jane  23.0    NaN\n"
     ]
    },
    {
     "data": {
      "text/html": [
       "<div>\n",
       "<style scoped>\n",
       "    .dataframe tbody tr th:only-of-type {\n",
       "        vertical-align: middle;\n",
       "    }\n",
       "\n",
       "    .dataframe tbody tr th {\n",
       "        vertical-align: top;\n",
       "    }\n",
       "\n",
       "    .dataframe thead th {\n",
       "        text-align: right;\n",
       "    }\n",
       "</style>\n",
       "<table border=\"1\" class=\"dataframe\">\n",
       "  <thead>\n",
       "    <tr style=\"text-align: right;\">\n",
       "      <th></th>\n",
       "      <th>name</th>\n",
       "      <th>Age</th>\n",
       "      <th>Score</th>\n",
       "    </tr>\n",
       "  </thead>\n",
       "  <tbody>\n",
       "    <tr>\n",
       "      <th>0</th>\n",
       "      <td>John</td>\n",
       "      <td>25.0</td>\n",
       "      <td>85.0</td>\n",
       "    </tr>\n",
       "    <tr>\n",
       "      <th>1</th>\n",
       "      <td>Jane</td>\n",
       "      <td>23.0</td>\n",
       "      <td>24.0</td>\n",
       "    </tr>\n",
       "    <tr>\n",
       "      <th>2</th>\n",
       "      <td>Bob</td>\n",
       "      <td>24.0</td>\n",
       "      <td>75.0</td>\n",
       "    </tr>\n",
       "    <tr>\n",
       "      <th>3</th>\n",
       "      <td>Alice</td>\n",
       "      <td>24.0</td>\n",
       "      <td>80.0</td>\n",
       "    </tr>\n",
       "  </tbody>\n",
       "</table>\n",
       "</div>"
      ],
      "text/plain": [
       "    name   Age  Score\n",
       "0   John  25.0   85.0\n",
       "1   Jane  23.0   24.0\n",
       "2    Bob  24.0   75.0\n",
       "3  Alice  24.0   80.0"
      ]
     },
     "execution_count": 79,
     "metadata": {},
     "output_type": "execute_result"
    }
   ],
   "source": [
    "a = {\n",
    "    \"name\" : [\"John\", \"Jane\", \"Bob\", \"Alice\"],\n",
    "    \"Age\" : [25, 23, None, 24],\n",
    "    \"Score\" : [85, None, 75, 80]\n",
    "}\n",
    "\n",
    "df = pd.DataFrame(a)\n",
    "print(df[df['Age'].isnull()])\n",
    "print(df[df['Score'].isnull()])\n",
    "df = df.fillna(df['Age'].mean())\n",
    "df = df.fillna(df['Score'].mean())\n",
    "df"
   ]
  },
  {
   "cell_type": "code",
   "execution_count": 90,
   "metadata": {},
   "outputs": [
    {
     "name": "stdout",
     "output_type": "stream",
     "text": [
      "    name  Age\n",
      "1   Jane   23\n",
      "2    Bob   29\n",
      "3  Alice   24\n"
     ]
    },
    {
     "data": {
      "text/html": [
       "<div>\n",
       "<style scoped>\n",
       "    .dataframe tbody tr th:only-of-type {\n",
       "        vertical-align: middle;\n",
       "    }\n",
       "\n",
       "    .dataframe tbody tr th {\n",
       "        vertical-align: top;\n",
       "    }\n",
       "\n",
       "    .dataframe thead th {\n",
       "        text-align: right;\n",
       "    }\n",
       "</style>\n",
       "<table border=\"1\" class=\"dataframe\">\n",
       "  <thead>\n",
       "    <tr style=\"text-align: right;\">\n",
       "      <th></th>\n",
       "      <th>name</th>\n",
       "    </tr>\n",
       "  </thead>\n",
       "  <tbody>\n",
       "    <tr>\n",
       "      <th>1</th>\n",
       "      <td>Jane</td>\n",
       "    </tr>\n",
       "    <tr>\n",
       "      <th>2</th>\n",
       "      <td>Bob</td>\n",
       "    </tr>\n",
       "  </tbody>\n",
       "</table>\n",
       "</div>"
      ],
      "text/plain": [
       "   name\n",
       "1  Jane\n",
       "2   Bob"
      ]
     },
     "execution_count": 90,
     "metadata": {},
     "output_type": "execute_result"
    }
   ],
   "source": [
    "a = {\n",
    "    \"name\" : [\"John\", \"Jane\", \"Bob\", \"Alice\"],\n",
    "    \"Age\" : [25, 23, 29, 24],\n",
    "    \"Salary\" : [8500, 5500, 7500, 8000]\n",
    "}\n",
    "\n",
    "df = pd.DataFrame(a)\n",
    "df\n",
    "print(df.loc[1:3, \"name\" : \"Age\"])\n",
    "df.iloc[1:3, 0 : 1]"
   ]
  },
  {
   "cell_type": "code",
   "execution_count": 98,
   "metadata": {},
   "outputs": [
    {
     "data": {
      "text/html": [
       "<div>\n",
       "<style scoped>\n",
       "    .dataframe tbody tr th:only-of-type {\n",
       "        vertical-align: middle;\n",
       "    }\n",
       "\n",
       "    .dataframe tbody tr th {\n",
       "        vertical-align: top;\n",
       "    }\n",
       "\n",
       "    .dataframe thead th {\n",
       "        text-align: right;\n",
       "    }\n",
       "</style>\n",
       "<table border=\"1\" class=\"dataframe\">\n",
       "  <thead>\n",
       "    <tr style=\"text-align: right;\">\n",
       "      <th></th>\n",
       "      <th>first_name</th>\n",
       "      <th>last_name</th>\n",
       "    </tr>\n",
       "  </thead>\n",
       "  <tbody>\n",
       "    <tr>\n",
       "      <th>0</th>\n",
       "      <td>JOHN</td>\n",
       "      <td>adam</td>\n",
       "    </tr>\n",
       "    <tr>\n",
       "      <th>1</th>\n",
       "      <td>NILLY</td>\n",
       "      <td>walker</td>\n",
       "    </tr>\n",
       "  </tbody>\n",
       "</table>\n",
       "</div>"
      ],
      "text/plain": [
       "  first_name last_name\n",
       "0       JOHN      adam\n",
       "1      NILLY    walker"
      ]
     },
     "execution_count": 98,
     "metadata": {},
     "output_type": "execute_result"
    }
   ],
   "source": [
    "a = {\n",
    "    \"first_name\" : [\"John\", \"Nilly\"],\n",
    "    \"last_name\" : [\"Adam\",  \"Walker\"]\n",
    "}\n",
    "\n",
    "df = pd.DataFrame(a)\n",
    "df.first_name =  df.first_name.str.upper()\n",
    "df.last_name = df.last_name.str.lower()\n",
    "df"
   ]
  }
 ],
 "metadata": {
  "kernelspec": {
   "display_name": "Python 3",
   "language": "python",
   "name": "python3"
  },
  "language_info": {
   "codemirror_mode": {
    "name": "ipython",
    "version": 3
   },
   "file_extension": ".py",
   "mimetype": "text/x-python",
   "name": "python",
   "nbconvert_exporter": "python",
   "pygments_lexer": "ipython3",
   "version": "3.10.0"
  },
  "orig_nbformat": 4
 },
 "nbformat": 4,
 "nbformat_minor": 2
}
