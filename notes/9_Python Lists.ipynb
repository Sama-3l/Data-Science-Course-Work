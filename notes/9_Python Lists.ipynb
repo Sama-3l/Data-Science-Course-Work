{
 "cells": [
  {
   "cell_type": "markdown",
   "metadata": {},
   "source": [
    "# Python Lists\n",
    "\n",
    "** Python Collections (Arrays) **\n",
    "\n",
    "There are four collection data types in the Python programming language:\n",
    "* List: List is a collection which is ordered and changeable. Allows duplicate members.\n",
    "* Tuple: Tuple is a collection which is ordered and unchangeable. Allows duplicate members.\n",
    "* Set: Set is a collection which is unordered, unchangeable*, and unindexed. No duplicate members. Set items are unchangeable, but you can remove and/or add items whenever you like.\n",
    "* Dictionary: Dictionary is a collection which is ordered** and changeable. No duplicate members. As of Python version 3.7, dictionaries are ordered. In Python 3.6 and earlier, dictionaries are unordered.\n",
    "\n",
    "When choosing a collection type, it is useful to understand the properties of that type. Choosing the right type for a particular data set could mean retention of meaning, and, it could mean an increase in efficiency or security.\n",
    "\n",
    "** Lists **\n",
    "\n",
    "* Lists are used to store multiple items in a single variable.\n",
    "* Lists are one of 4 built-in data types in Python used to store collections of data, the other 3 are Tuple, Set, and Dictionary, all with different qualities and usage.\n",
    "* Lists are created using square brackets\n",
    "* mylist = [\"apple\", \"banana\", \"cherry\"]"
   ]
  },
  {
   "cell_type": "code",
   "execution_count": null,
   "metadata": {},
   "outputs": [],
   "source": [
    "# creating a list\n",
    "thislist = [\"apple\", \"banana\", \"cherry\"]\n",
    "print(thislist)"
   ]
  },
  {
   "cell_type": "markdown",
   "metadata": {},
   "source": [
    "** List Items **\n",
    "* List items are ordered, changeable, and allow duplicate values.\n",
    "* List items are indexed, the first item has index [0], the second item has index [1] etc\n",
    "\n",
    "** Ordered **\n",
    "* When we say that lists are ordered, it means that the items have a defined order, and that order will not change.\n",
    "* If you add new items to a list, the new items will be placed at the end of the list.\n",
    "* Note: There are some list methods that will change the order, but in general: the order of the items will not change\n",
    "\n",
    "** Changeable **\n",
    "* The list is changeable, meaning that we can change, add, and remove items in a list after it has been created\n",
    "\n",
    "** Allow Duplicates **\n",
    "* Since lists are indexed, lists can have items with the same value"
   ]
  },
  {
   "cell_type": "code",
   "execution_count": null,
   "metadata": {},
   "outputs": [],
   "source": [
    "# Lists allow duplicate values:\n",
    "\n",
    "thislist = [\"apple\", \"banana\", \"cherry\", \"apple\", \"cherry\"]\n",
    "print(thislist)"
   ]
  },
  {
   "cell_type": "code",
   "execution_count": null,
   "metadata": {},
   "outputs": [],
   "source": [
    "# To determine how many items a list has, use the len() function:\n",
    "\n",
    "# Print the number of items in the list:\n",
    "\n",
    "thislist = [\"apple\", \"banana\", \"cherry\"]\n",
    "print(len(thislist))"
   ]
  },
  {
   "cell_type": "code",
   "execution_count": null,
   "metadata": {},
   "outputs": [],
   "source": [
    "# List items can be of any data type:\n",
    "\n",
    "# String, int and boolean data types:\n",
    "\n",
    "list1 = [\"apple\", \"banana\", \"cherry\"]\n",
    "list2 = [1, 5, 7, 9, 3]\n",
    "list3 = [True, False, False]"
   ]
  },
  {
   "cell_type": "code",
   "execution_count": null,
   "metadata": {},
   "outputs": [],
   "source": [
    "# A list can contain different data types:\n",
    "\n",
    "# Example\n",
    "# A list with strings, integers and boolean values:\n",
    "\n",
    "list1 = [\"abc\", 34, True, 40, \"male\"]"
   ]
  },
  {
   "cell_type": "code",
   "execution_count": null,
   "metadata": {},
   "outputs": [],
   "source": [
    "# From Python's perspective, lists are defined as objects with the data type 'list':\n",
    "\n",
    "# <class 'list'>\n",
    "# Example\n",
    "# What is the data type of a list?\n",
    "\n",
    "mylist = [\"apple\", \"banana\", \"cherry\"]\n",
    "print(type(mylist))"
   ]
  },
  {
   "cell_type": "code",
   "execution_count": null,
   "metadata": {},
   "outputs": [],
   "source": [
    "# It is also possible to use the list() constructor when creating a new list.\n",
    "\n",
    "# Example\n",
    "# Using the list() constructor to make a List:\n",
    "\n",
    "thislist = list((\"apple\", \"banana\", \"cherry\")) # note the double round-brackets\n",
    "print(thislist)"
   ]
  },
  {
   "cell_type": "code",
   "execution_count": null,
   "metadata": {},
   "outputs": [],
   "source": [
    "# Access Items\n",
    "# List items are indexed and you can access them by referring to the index number:\n",
    "# Note: The first item has index 0.\n",
    "\n",
    "# Example\n",
    "# Print the second item of the list:\n",
    "\n",
    "thislist = [\"apple\", \"banana\", \"cherry\"]\n",
    "print(thislist[1])"
   ]
  },
  {
   "cell_type": "code",
   "execution_count": null,
   "metadata": {},
   "outputs": [],
   "source": [
    "# Negative Indexing\n",
    "# Negative indexing means start from the end\n",
    "\n",
    "# -1 refers to the last item, -2 refers to the second last item etc.\n",
    "\n",
    "# Example\n",
    "# Print the last item of the list:\n",
    "\n",
    "thislist = [\"apple\", \"banana\", \"cherry\"]\n",
    "print(thislist[-1])"
   ]
  },
  {
   "cell_type": "code",
   "execution_count": null,
   "metadata": {},
   "outputs": [],
   "source": [
    "# Range of Indexes\n",
    "# You can specify a range of indexes by specifying where to start and where to end the range.\n",
    "\n",
    "# When specifying a range, the return value will be a new list with the specified items.\n",
    "\n",
    "# Example\n",
    "# Return the third, fourth, and fifth item:\n",
    "# Note: The search will start at index 2 (included) and end at index 5 (not included).\n",
    "\n",
    "thislist = [\"apple\", \"banana\", \"cherry\", \"orange\", \"kiwi\", \"melon\", \"mango\"]\n",
    "print(thislist[2:5])"
   ]
  },
  {
   "cell_type": "code",
   "execution_count": 1,
   "metadata": {},
   "outputs": [
    {
     "name": "stdout",
     "output_type": "stream",
     "text": [
      "['apple', 'banana', 'cherry', 'orange']\n"
     ]
    }
   ],
   "source": [
    "# By leaving out the start value, the range will start at the first item:\n",
    "\n",
    "# Example\n",
    "# This example returns the items from the beginning to, but NOT including, \"kiwi\":\n",
    "\n",
    "thislist = [\"apple\", \"banana\", \"cherry\", \"orange\", \"kiwi\", \"melon\", \"mango\"]\n",
    "print(thislist[:4])"
   ]
  },
  {
   "cell_type": "code",
   "execution_count": null,
   "metadata": {},
   "outputs": [],
   "source": [
    "# By leaving out the end value, the range will go on to the end of the list:\n",
    "\n",
    "# Example\n",
    "# This example returns the items from \"cherry\" to the end:\n",
    "\n",
    "thislist = [\"apple\", \"banana\", \"cherry\", \"orange\", \"kiwi\", \"melon\", \"mango\"]\n",
    "print(thislist[2:])"
   ]
  },
  {
   "cell_type": "code",
   "execution_count": null,
   "metadata": {},
   "outputs": [],
   "source": [
    "# Range of Negative Indexes\n",
    "# Specify negative indexes if you want to start the search from the end of the list:\n",
    "\n",
    "# Example\n",
    "# This example returns the items from \"orange\" (-4) to, but NOT including \"mango\" (-1):\n",
    "\n",
    "thislist = [\"apple\", \"banana\", \"cherry\", \"orange\", \"kiwi\", \"melon\", \"mango\"]\n",
    "print(thislist[-4:-1])"
   ]
  },
  {
   "cell_type": "code",
   "execution_count": null,
   "metadata": {},
   "outputs": [],
   "source": [
    "# Check if Item Exists\n",
    "# To determine if a specified item is present in a list use the in keyword:\n",
    "\n",
    "# Example\n",
    "# Check if \"apple\" is present in the list:\n",
    "\n",
    "thislist = [\"apple\", \"banana\", \"cherry\"]\n",
    "if \"banana\" in thislist:\n",
    "    print(\"Yes, 'apple' is in the fruits list\")\n",
    "#print(\"No\")"
   ]
  },
  {
   "cell_type": "code",
   "execution_count": null,
   "metadata": {},
   "outputs": [],
   "source": [
    "# Change Item Value\n",
    "# To change the value of a specific item, refer to the index number:\n",
    "\n",
    "# Example\n",
    "# Change the second item:\n",
    "\n",
    "thislist = [\"apple\", \"banana\", \"cherry\"]\n",
    "thislist[1] = \"blackcurrant\"\n",
    "print(thislist)"
   ]
  },
  {
   "cell_type": "code",
   "execution_count": null,
   "metadata": {},
   "outputs": [],
   "source": [
    "# Change a Range of Item Values\n",
    "# To change the value of items within a specific range, define a list with the new values, and refer to the range of index numbers where you want to insert the new values:\n",
    "\n",
    "# Example\n",
    "# Change the values \"banana\" and \"cherry\" with the values \"blackcurrant\" and \"watermelon\":\n",
    "\n",
    "thislist = [\"apple\", \"banana\", \"cherry\", \"orange\", \"kiwi\", \"mango\"]\n",
    "thislist[1:3] = [\"blackcurrant\", \"watermelon\"]\n",
    "print(thislist)"
   ]
  },
  {
   "cell_type": "code",
   "execution_count": null,
   "metadata": {},
   "outputs": [],
   "source": [
    "# If you insert more items than you replace, the new items will be inserted where you specified, and the remaining items will move accordingly:\n",
    "\n",
    "# Example\n",
    "# Change the second value by replacing it with two new values:\n",
    "\n",
    "thislist = [\"apple\", \"banana\", \"cherry\"]\n",
    "thislist[1:2] = [\"blackcurrant\", \"watermelon\"]\n",
    "print(thislist)\n",
    "# Note: The length of the list will change when the number of items inserted does not match the number of items replaced."
   ]
  },
  {
   "cell_type": "code",
   "execution_count": null,
   "metadata": {},
   "outputs": [],
   "source": [
    "# If you insert less items than you replace, the new items will be inserted where you specified, and the remaining items will move accordingly:\n",
    "\n",
    "# Example\n",
    "# Change the second and third value by replacing it with one value:\n",
    "\n",
    "thislist = [\"apple\", \"banana\", \"cherry\"]\n",
    "thislist[1:3] = [\"watermelon\"]\n",
    "print(thislist)\n",
    "# Note: The length of the list will change when the number of items inserted does not match the number of items replaced."
   ]
  },
  {
   "cell_type": "code",
   "execution_count": null,
   "metadata": {},
   "outputs": [],
   "source": [
    "# Append Items\n",
    "# To add an item to the end of the list, use the append() method:\n",
    "\n",
    "# Example\n",
    "# Using the append() method to append an item:\n",
    "\n",
    "thislist = [\"apple\", \"banana\", \"cherry\"]\n",
    "thislist.append(\"orange\")\n",
    "print(thislist)"
   ]
  },
  {
   "cell_type": "code",
   "execution_count": null,
   "metadata": {},
   "outputs": [],
   "source": [
    "# To insert a list item at a specified index, use the insert() method.\n",
    "\n",
    "# The insert() method inserts an item at the specified index:\n",
    "\n",
    "# Example\n",
    "# Insert an item as the second position:\n",
    "\n",
    "thislist = [\"apple\", \"banana\", \"cherry\"]\n",
    "#thislist.insert(1, \"orange\")\n",
    "list1=[\"Orange\",\"Kiwi\"]\n",
    "#thislist.insert(1, list1)\n",
    "thislist[1:1]=list1 #list will be inserted between 0 and 1\n",
    "print(thislist)\n",
    "# Note: As a result of the examples above, the lists will now contain 4 items."
   ]
  },
  {
   "cell_type": "code",
   "execution_count": null,
   "metadata": {},
   "outputs": [],
   "source": [
    "# Extend List\n",
    "# To append elements from another list to the current list, use the extend() method.\n",
    "\n",
    "# Example\n",
    "# Add the elements of tropical to thislist:\n",
    "\n",
    "thislist = [\"apple\", \"banana\", \"cherry\"]\n",
    "tropical = [\"mango\", \"pineapple\", \"papaya\"]\n",
    "thislist.extend(tropical)\n",
    "print(thislist)\n",
    "# The elements will be added to the end of the list."
   ]
  },
  {
   "cell_type": "code",
   "execution_count": null,
   "metadata": {},
   "outputs": [],
   "source": [
    "# Add Any Iterable\n",
    "# The extend() method does not have to append lists, you can add any iterable object (tuples, sets, dictionaries etc.).\n",
    "\n",
    "# Example\n",
    "# Add elements of a tuple to a list:\n",
    "\n",
    "thislist = [\"apple\", \"banana\", \"cherry\"]\n",
    "thistuple = (\"kiwi\", \"orange\")\n",
    "thislist.extend(thistuple)\n",
    "print(thislist)"
   ]
  },
  {
   "cell_type": "code",
   "execution_count": null,
   "metadata": {},
   "outputs": [],
   "source": [
    "# Remove Specified Item\n",
    "# The remove() method removes the specified item.\n",
    "\n",
    "# Example\n",
    "# Remove \"banana\":\n",
    "\n",
    "thislist = [\"apple\", \"banana\", \"cherry\"]\n",
    "thislist.remove(\"banana\")\n",
    "print(thislist)\n",
    "#thislist = [1,2,3]\n",
    "#thislist.remove(1)\n",
    "#print(thislist)"
   ]
  },
  {
   "cell_type": "code",
   "execution_count": null,
   "metadata": {},
   "outputs": [],
   "source": [
    "# Remove Specified Index\n",
    "# The pop() method removes the specified index.\n",
    "\n",
    "# Example\n",
    "# Remove the second item:\n",
    "\n",
    "thislist = [\"apple\", \"banana\", \"cherry\"]\n",
    "thislist.pop(1)\n",
    "print(thislist)"
   ]
  },
  {
   "cell_type": "code",
   "execution_count": null,
   "metadata": {},
   "outputs": [],
   "source": [
    "# If you do not specify the index, the pop() method removes the last item.\n",
    "\n",
    "# Example\n",
    "# Remove the last item:\n",
    "\n",
    "thislist = [\"apple\", \"banana\", \"cherry\"]\n",
    "thislist.pop()\n",
    "print(thislist)"
   ]
  },
  {
   "cell_type": "code",
   "execution_count": null,
   "metadata": {},
   "outputs": [],
   "source": [
    "# The del keyword also removes the specified index:\n",
    "\n",
    "# Example\n",
    "# Remove the first item:\n",
    "\n",
    "thislist = [\"apple\", \"banana\", \"cherry\"]\n",
    "del thislist[0]\n",
    "print(thislist)"
   ]
  },
  {
   "cell_type": "code",
   "execution_count": null,
   "metadata": {},
   "outputs": [],
   "source": [
    "# The del keyword can also delete the list completely.\n",
    "\n",
    "# Example\n",
    "# Delete the entire list:\n",
    "\n",
    "thislist = [\"apple\", \"banana\", \"cherry\"]\n",
    "del thislist\n",
    "print (thislist)"
   ]
  },
  {
   "cell_type": "code",
   "execution_count": null,
   "metadata": {},
   "outputs": [],
   "source": [
    "# Clear the List\n",
    "# The clear() method empties the list.\n",
    "\n",
    "# The list still remains, but it has no content.\n",
    "\n",
    "# Example\n",
    "# Clear the list content:\n",
    "\n",
    "thislist = [\"apple\", \"banana\", \"cherry\"]\n",
    "thislist.clear()\n",
    "print(thislist)"
   ]
  },
  {
   "cell_type": "code",
   "execution_count": null,
   "metadata": {},
   "outputs": [],
   "source": [
    "# Loop Through a List\n",
    "# You can loop through the list items by using a for loop:\n",
    "\n",
    "# Example\n",
    "# Print all items in the list, one by one:\n",
    "\n",
    "thislist = [\"apple\", \"banana\", \"cherry\"]\n",
    "for x in thislist:\n",
    "    print(x)"
   ]
  },
  {
   "cell_type": "code",
   "execution_count": null,
   "metadata": {},
   "outputs": [],
   "source": [
    "# Loop Through the Index Numbers\n",
    "# You can also loop through the list items by referring to their index number.\n",
    "\n",
    "# Use the range() and len() functions to create a suitable iterable.\n",
    "\n",
    "# Example\n",
    "# Print all items by referring to their index number:\n",
    "\n",
    "thislist = [\"apple\", \"banana\", \"cherry\"]\n",
    "for i in range(len(thislist)):\n",
    "    print(thislist[i])\n",
    "\n",
    "# The iterable created in the example above is [0, 1, 2]"
   ]
  },
  {
   "cell_type": "code",
   "execution_count": null,
   "metadata": {},
   "outputs": [],
   "source": [
    "# Using a While Loop\n",
    "# You can loop through the list items by using a while loop.\n",
    "\n",
    "# Use the len() function to determine the length of the list, then start at 0 and loop your way through the list items by referring to their indexes.\n",
    "\n",
    "# Remember to increase the index by 1 after each iteration.\n",
    "\n",
    "# Example\n",
    "# Print all items, using a while loop to go through all the index numbers\n",
    "\n",
    "thislist = [\"apple\", \"banana\", \"cherry\"]\n",
    "i = 0\n",
    "while i < len(thislist):\n",
    "    print(thislist[i])\n",
    "    i = i + 1"
   ]
  },
  {
   "cell_type": "code",
   "execution_count": null,
   "metadata": {},
   "outputs": [],
   "source": [
    "# Looping Using List Comprehension\n",
    "# List Comprehension offers the shortest syntax for looping through lists:\n",
    "\n",
    "# Example\n",
    "# A short hand for loop that will print all items in a list:\n",
    "\n",
    "thislist = [\"apple\", \"banana\", \"cherry\",\"Orange\"]\n",
    "[print(x) for x in thislist]"
   ]
  },
  {
   "cell_type": "code",
   "execution_count": null,
   "metadata": {},
   "outputs": [],
   "source": [
    "# List Comprehension\n",
    "# List comprehension offers a shorter syntax when you want to create a new list based on the values of an existing list.\n",
    "# newlist = [expression for item in iterable if condition == True]\n",
    "\n",
    "# Example:\n",
    "\n",
    "# Based on a list of fruits, you want a new list, containing only the fruits with the letter \"a\" in the name.\n",
    "\n",
    "# Without list comprehension you will have to write a for statement with a conditional test inside:\n",
    "\n",
    "# Example\n",
    "fruits = [\"apple\", \"banana\", \"cherry\", \"kiwi\", \"mango\"]\n",
    "newlist = []\n",
    "\n",
    "for x in fruits:\n",
    "    if \"a\" in x:\n",
    "        newlist.append(x)\n",
    "\n",
    "print(newlist)\n",
    "\n",
    "# With list comprehension you can do all that with only one line of code:\n",
    "\n",
    "# Example\n",
    "fruits = [\"apple\", \"banana\", \"cherry\", \"kiwi\", \"mango\"]\n",
    "\n",
    "newlist = [x for x in fruits if \"a\" in x]\n",
    "\n",
    "print(newlist)"
   ]
  },
  {
   "cell_type": "code",
   "execution_count": null,
   "metadata": {},
   "outputs": [],
   "source": [
    "# The Syntax\n",
    "# newlist = [expression for item in iterable if condition == True]\n",
    "# The return value is a new list, leaving the old list unchanged.\n",
    "# The condition is like a filter that only accepts the items that valuate to True.\n",
    "\n",
    "# Example\n",
    "# Only accept items that are not \"apple\":\n",
    "newlist = [x for x in fruits if x != \"apple\"]\n",
    "print(newlist)\n",
    "# The condition if x != \"apple\"  will return True for all elements other than \"apple\", making the new list contain all fruits except \"apple\".\n"
   ]
  },
  {
   "cell_type": "code",
   "execution_count": null,
   "metadata": {},
   "outputs": [],
   "source": [
    "# The condition is optional and can be omitted:\n",
    "\n",
    "# Example\n",
    "# With no if statement:\n",
    "\n",
    "newlist = [x for x in fruits]\n",
    "print(newlist)"
   ]
  },
  {
   "cell_type": "code",
   "execution_count": null,
   "metadata": {},
   "outputs": [],
   "source": [
    "# Iterable\n",
    "# The iterable can be any iterable object, like a list, tuple, set etc.\n",
    "\n",
    "# Example\n",
    "# You can use the range() function to create an iterable:\n",
    "\n",
    "newlist = [x for x in range(10)]\n",
    "print(newlist)"
   ]
  },
  {
   "cell_type": "code",
   "execution_count": null,
   "metadata": {},
   "outputs": [],
   "source": [
    "# Same example, but with a condition:\n",
    "\n",
    "# Example\n",
    "# Accept only numbers lower than 5:\n",
    "\n",
    "newlist = [x for x in range(10) if x < 5]\n",
    "print(newlist)"
   ]
  },
  {
   "cell_type": "code",
   "execution_count": null,
   "metadata": {},
   "outputs": [],
   "source": [
    "# Expression\n",
    "# The expression is the current item in the iteration, but it is also the outcome, which you can manipulate before it ends up like a list item in the new list:\n",
    "\n",
    "# Example\n",
    "# Set the values in the new list to upper case:\n",
    "\n",
    "newlist = [x.upper() for x in fruits]\n",
    "print(newlist)\n",
    "\n",
    "#print the new list which contains the \"a\""
   ]
  },
  {
   "cell_type": "code",
   "execution_count": null,
   "metadata": {},
   "outputs": [],
   "source": [
    "# You can set the outcome to whatever you like:\n",
    "\n",
    "# Example\n",
    "# Set all values in the new list to 'hello':\n",
    "\n",
    "newlist = ['hello' for x in fruits]\n",
    "print(newlist)"
   ]
  },
  {
   "cell_type": "code",
   "execution_count": null,
   "metadata": {},
   "outputs": [],
   "source": [
    "# The expression can also contain conditions, not like a filter, but as a way to manipulate the outcome\n",
    "\n",
    "# Example\n",
    "# Return \"orange\" instead of \"banana\":\n",
    "\n",
    "newlist = [x if x != \"banana\" else \"orange\" for x in fruits]\n",
    "print(newlist)\n",
    "\n",
    "# The expression in the example above says:\n",
    "# \"Return the item if it is not banana, if it is banana return orange\"."
   ]
  },
  {
   "cell_type": "code",
   "execution_count": null,
   "metadata": {},
   "outputs": [],
   "source": [
    "#list.sort(key,reverse), Key and Reverse both are optional\n",
    "#key-->A function to specify the sorting criteria.Default value is None.\n",
    "#reverse-->Settting it to True sorts the list in reverse order.Default value is False.\n",
    "\n",
    "\n",
    "# Sort List Alphanumerically\n",
    "# List objects have a sort() method that will sort the list alphanumerically, ascending, by default:\n",
    "\n",
    "# Example\n",
    "# Sort the list alphabetically:\n",
    "\n",
    "thislist = [\"orange\", \"mango\", \"kiwi\", \"pineapple\", \"banana\"]\n",
    "thislist.sort()\n",
    "print(thislist)\n",
    "\n",
    "# to get the ASCII value of a character\n",
    "#ord('A')"
   ]
  },
  {
   "cell_type": "code",
   "execution_count": null,
   "metadata": {},
   "outputs": [],
   "source": [
    "# Example\n",
    "# Sort the list numerically:\n",
    "\n",
    "thislist = [100, 50, 65, 82, 23]\n",
    "\n",
    "thislist.sort()\n",
    "print(thislist)"
   ]
  },
  {
   "cell_type": "code",
   "execution_count": null,
   "metadata": {},
   "outputs": [],
   "source": [
    "# Customize Sort Function\n",
    "# You can also customize your own function by using the keyword argument key = function.\n",
    "\n",
    "# The function will return a number that will be used to sort the list (the lowest number first):\n",
    "\n",
    "# Example\n",
    "# Sort the list based on how close the number is to 50:\n",
    "\n",
    "def myfunc(n):\n",
    "    return abs(n - 50)\n",
    "\n",
    "thislist = [100, 50, 65, 82, 23]\n",
    "thislist.sort(key = myfunc)\n",
    "print(thislist)\n",
    "\n",
    "\n",
    "# Sort a list of tuples based on the age of students\n",
    "def myFunc(e):\n",
    "  return e[1]\t# return age\n",
    "\n",
    "L = [('Bob', 30),\n",
    "     ('Sam', 35),\n",
    "     ('Max', 25)]\n",
    "L.sort(key=myFunc)\n",
    "print(L)\n",
    "# Prints [('Max', 25), ('Bob', 30), ('Sam', 35)]\n",
    "\n",
    "# Sort a list of dictionaries based on the age of students\n",
    "def myFunc(e):\n",
    "    return e['age']\t\t# return age\n",
    "\n",
    "L = [{'name': 'Bob', 'age': 30},\n",
    "     {'name': 'Sam', 'age': 35},\n",
    "     {'name': 'Max', 'age': 25}]\n",
    "L.sort(key=myFunc)\n",
    "print(L)\n",
    "# [{'age': 25, 'name': 'Max'}, {'age': 30, 'name': 'Bob'}, {'age': 35, 'name': 'Sam'}]\n",
    "#Try with name as key"
   ]
  },
  {
   "cell_type": "code",
   "execution_count": null,
   "metadata": {},
   "outputs": [],
   "source": [
    "# Case sensitive Sort\n",
    "#By default, the sort() method sorts the list in ASCIIbetical order rather than actual alphabetical order. \n",
    "#This means uppercase letters come before lowercase letters.\n",
    "\n",
    "thislist = [\"banana\", \"Orange\", \"Kiwi\", \"cherry\"]\n",
    "thislist.sort()\n",
    "print(thislist)"
   ]
  },
  {
   "cell_type": "code",
   "execution_count": null,
   "metadata": {},
   "outputs": [],
   "source": [
    "# Case Insensitive Sort\n",
    "# Luckily we can use built-in functions as key functions when sorting a list.\n",
    "# So if you want a case-insensitive sort function, use str.lower as a key function:\n",
    "\n",
    "# Example\n",
    "# Perform a case-insensitive sort of the list:\n",
    "\n",
    "thislist = [\"banana\", \"Orange\", \"Kiwi\", \"cherry\"]\n",
    "thislist.sort(key = str.lower)\n",
    "#thislist.sort(key = len)\n",
    "print(thislist)"
   ]
  },
  {
   "cell_type": "code",
   "execution_count": null,
   "metadata": {},
   "outputs": [],
   "source": [
    "# Reverse Order\n",
    "# What if you want to reverse the order of a list, regardless of the alphabet?\n",
    "\n",
    "# The reverse() method reverses the current sorting order of the elements.\n",
    "\n",
    "# Example\n",
    "# Reverse the order of the list items:\n",
    "\n",
    "thislist = [\"banana\", \"Orange\", \"Kiwi\", \"cherry\"]\n",
    "thislist.reverse()\n",
    "print(thislist)"
   ]
  },
  {
   "cell_type": "code",
   "execution_count": null,
   "metadata": {},
   "outputs": [],
   "source": [
    "#Sort List in Reverse Order\n",
    "#You can also sort the list in reverse order by setting reverse to TRUE.\n",
    "L = ['red', 'green', 'blue', 'orange']\n",
    "L.sort(reverse=True)\n",
    "print(L)\n",
    "# Prints ['red', 'orange', 'green', 'blue']"
   ]
  },
  {
   "cell_type": "code",
   "execution_count": null,
   "metadata": {},
   "outputs": [],
   "source": [
    "#Sort Vs Sorted\n",
    "#The sort() method doesn’t return anything, it modifies the original list (i.e. sorts in-place). If you don’t want to modify the original list, use sorted() function. It returns a sorted copy of the list.\n",
    "# Get a sorted copy of the list with sorted()\n",
    "L = ['red', 'green', 'blue', 'orange']\n",
    "x = sorted(L)\n",
    "print(x)\n",
    "# Prints ['blue', 'green', 'orange', 'red']"
   ]
  },
  {
   "cell_type": "code",
   "execution_count": null,
   "metadata": {},
   "outputs": [],
   "source": [
    "# Iterate through a sorted list without changing the original\n",
    "L = ['red', 'green', 'blue', 'orange']\n",
    "for x in sorted(L):\n",
    "    print(x)\n",
    "# Prints blue green orange red"
   ]
  },
  {
   "cell_type": "code",
   "execution_count": null,
   "metadata": {},
   "outputs": [],
   "source": [
    "# Copy a List\n",
    "# You can copy a list simply by typing list2 = list1, \n",
    "# But changes made in list1 will automatically also be made in list2.\n",
    "#because: list2 will only be a reference to list1,\n",
    "\n",
    "thislist = [\"apple\", \"banana\", \"cherry\"]\n",
    "mylist = thislist\n",
    "mylist[0]=\"coconut\"\n",
    "#thislist[0] = \"coconut\"\n",
    "print(mylist)\n",
    "print(thislist)"
   ]
  },
  {
   "cell_type": "code",
   "execution_count": null,
   "metadata": {},
   "outputs": [],
   "source": [
    "# There are ways to make a copy, one way is to use the built-in List method copy().\n",
    "\n",
    "# Example\n",
    "# Make a copy of a list with the copy() method:\n",
    "thislist = [\"apple\", \"banana\", \"cherry\"]\n",
    "mylist = thislist.copy()\n",
    "thislist[0] = \"cocunut\"\n",
    "print(mylist)\n",
    "print(thislist)"
   ]
  },
  {
   "cell_type": "code",
   "execution_count": null,
   "metadata": {},
   "outputs": [],
   "source": [
    "# Another way to make a copy is to use the built-in method list().\n",
    "\n",
    "# Example\n",
    "# Make a copy of a list with the list() method:\n",
    "\n",
    "thislist = [\"apple\", \"banana\", \"cherry\"]\n",
    "mylist = list(thislist)\n",
    "thislist[0] = \"cocunut\"\n",
    "print(mylist)\n",
    "print(thislist)"
   ]
  },
  {
   "cell_type": "code",
   "execution_count": null,
   "metadata": {},
   "outputs": [],
   "source": [
    "# Join Two Lists\n",
    "# There are several ways to join, or concatenate, two or more lists in Python.\n",
    "\n",
    "# One of the easiest ways are by using the + operator.\n",
    "\n",
    "# Example\n",
    "# Join two list:\n",
    "\n",
    "list1 = [\"a\", \"b\", \"c\"]\n",
    "list2 = [1, 2, 3]\n",
    "\n",
    "list3 = list1 + list2\n",
    "print(list3)"
   ]
  },
  {
   "cell_type": "code",
   "execution_count": null,
   "metadata": {},
   "outputs": [],
   "source": [
    "# Another way to join two lists is by appending all the items from list2 into list1, one by one:\n",
    "\n",
    "# Example\n",
    "# Append list2 into list1:\n",
    "\n",
    "list1 = [\"a\", \"b\" , \"c\"]\n",
    "list2 = [1, 2, 3]\n",
    "\n",
    "for x in list2:\n",
    "    list1.append(x)\n",
    "\n",
    "print(list1)"
   ]
  },
  {
   "cell_type": "code",
   "execution_count": null,
   "metadata": {},
   "outputs": [],
   "source": [
    "# Or you can use the extend() method, which purpose is to add elements from one list to another list:\n",
    "\n",
    "# Example\n",
    "# Use the extend() method to add list2 at the end of list1:\n",
    "\n",
    "list1 = [\"a\", \"b\" , \"c\"]\n",
    "list2 = [1, 2, 3]\n",
    "\n",
    "list1.extend(list2)\n",
    "print(list1)"
   ]
  },
  {
   "cell_type": "code",
   "execution_count": null,
   "metadata": {},
   "outputs": [],
   "source": [
    "# List Methods\n",
    "# Python has a set of built-in methods that you can use on lists.\n",
    "\n",
    "# append()\tAdds an element at the end of the list\n",
    "# clear()\tRemoves all the elements from the list\n",
    "# copy()\tReturns a copy of the list\n",
    "# count()\tReturns the number of elements with the specified value\n",
    "# extend()\tAdd the elements of a list (or any iterable), to the end of the current list\n",
    "# index()\tReturns the index of the first element with the specified value\n",
    "# insert()\tAdds an element at the specified position\n",
    "# pop()\tRemoves the element at the specified position\n",
    "# remove()\tRemoves the item with the specified value\n",
    "# reverse()\tReverses the order of the list\n",
    "# sort()\tSorts the list"
   ]
  }
 ],
 "metadata": {
  "kernelspec": {
   "display_name": "Python 3 (ipykernel)",
   "language": "python",
   "name": "python3"
  },
  "language_info": {
   "codemirror_mode": {
    "name": "ipython",
    "version": 3
   },
   "file_extension": ".py",
   "mimetype": "text/x-python",
   "name": "python",
   "nbconvert_exporter": "python",
   "pygments_lexer": "ipython3",
   "version": "3.10.0"
  }
 },
 "nbformat": 4,
 "nbformat_minor": 2
}
