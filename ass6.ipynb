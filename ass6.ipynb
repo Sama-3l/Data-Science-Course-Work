{
 "cells": [
  {
   "cell_type": "code",
   "execution_count": 5,
   "metadata": {},
   "outputs": [
    {
     "name": "stdout",
     "output_type": "stream",
     "text": [
      "Your current age is: 20 years\n"
     ]
    }
   ],
   "source": [
    "import datetime\n",
    "\n",
    "def calculate_age(bd):\n",
    "    try:\n",
    "        bd = datetime.datetime.strptime(bd, \"%Y-%m-%d\")\n",
    "        current = datetime.datetime.now()\n",
    "        if(current.month < bd.month and current.day < bd.day):\n",
    "            age = current.year - bd.year\n",
    "        else:\n",
    "            age = current.year - bd.year - 1\n",
    "        age = current.year - bd.year - ((current.month, current.day) < (bd.month, bd.day))\n",
    "        return age\n",
    "    except ValueError:\n",
    "        return \"Invalid date format. Please use the format 'YYYY-MM-DD'\"\n",
    "    except Exception as e:\n",
    "        return f\"An error occurred: {str(e)}\"\n",
    "\n",
    "bd = input(\"Enter your birthdate (YYYY-MM-DD): \")\n",
    "age = calculate_age(bd)\n",
    "print(f\"Your current age is: {age} years\")\n"
   ]
  },
  {
   "cell_type": "code",
   "execution_count": 13,
   "metadata": {},
   "outputs": [
    {
     "name": "stdout",
     "output_type": "stream",
     "text": [
      "0\n",
      "0\n",
      "0\n",
      "1\n",
      "2\n",
      "3\n",
      "4\n",
      "5\n",
      "Weekdays count: 5\n"
     ]
    }
   ],
   "source": [
    "import datetime\n",
    "\n",
    "def working_days(d1, d2):\n",
    "    day1 = datetime.datetime.strptime(d1, \"%Y-%m-%d\")\n",
    "    day2 = datetime.datetime.strptime(d2, \"%Y-%m-%d\")\n",
    "    \n",
    "    count = 0\n",
    "    while day1 <= day2:\n",
    "        if day1.weekday() < 5:\n",
    "            count += 1\n",
    "        day1 += datetime.timedelta(days=1)\n",
    "    \n",
    "    return count\n",
    "\n",
    "d1 = input(\"Enter first date (YYYY-MM-DD): \")\n",
    "d2 = input(\"Enter second date (YYYY-MM-DD): \")\n",
    "c = working_days(d1,d2)\n",
    "\n",
    "print(f\"Weekdays count: {c}\")\n"
   ]
  },
  {
   "cell_type": "code",
   "execution_count": 21,
   "metadata": {},
   "outputs": [
    {
     "name": "stdout",
     "output_type": "stream",
     "text": [
      "55.47071299343465\n"
     ]
    }
   ],
   "source": [
    "import math\n",
    "\n",
    "x1 = float(input('Enter x1'))\n",
    "y1 = float(input('Enter y1'))\n",
    "x2 = float(input('Enter x2'))\n",
    "y2 = float(input('Enter y2'))\n",
    "\n",
    "print(math.sqrt((x2 - x1)**2 + (y2 - y1)**2))"
   ]
  },
  {
   "cell_type": "code",
   "execution_count": null,
   "metadata": {},
   "outputs": [],
   "source": [
    "import numpy as np\n",
    "\n",
    "A = np.random.rand(3, 3)\n",
    "B = np.random.rand(3, 3)\n",
    "\n",
    "print(\"Matrix A:\")\n",
    "print(A)\n",
    "print(\"\\nMatrix B:\")\n",
    "print(B)\n",
    "\n",
    "element_wise_sum = A + B\n",
    "element_wise_product = A * B\n",
    "\n",
    "print(\"\\nElement-wise sum of A and B:\")\n",
    "print(element_wise_sum)\n",
    "print(\"\\nElement-wise product of A and B:\")\n",
    "print(element_wise_product)\n",
    "\n",
    "dot_product = np.dot(A, B)\n",
    "print(\"\\nDot product of A and B:\")\n",
    "print(dot_product)\n",
    "\n",
    "determinant_A = np.linalg.det(A)\n",
    "print(\"\\nDeterminant of matrix A:\", determinant_A)\n",
    "\n",
    "try:\n",
    "    inverse_B = np.linalg.inv(B)\n",
    "    print(\"\\nInverse of matrix B:\")\n",
    "    print(inverse_B)\n",
    "except np.linalg.LinAlgError:\n",
    "    print(\"\\nMatrix B is not invertible.\")"
   ]
  },
  {
   "cell_type": "code",
   "execution_count": 29,
   "metadata": {},
   "outputs": [
    {
     "name": "stdout",
     "output_type": "stream",
     "text": [
      "      Name  Age           City\n",
      "0    Alice   25       New York\n",
      "1      Bob   30    Los Angeles\n",
      "2  Charlie   22       Chiacago\n",
      "3    David   35  San Francisco\n",
      "\n",
      "\n",
      "\n",
      "    Name  Age         City\n",
      "0  Alice   25     New York\n",
      "1    Bob   30  Los Angeles\n",
      "\n",
      "\n",
      "\n",
      "    Name  Age           City\n",
      "1    Bob   30    Los Angeles\n",
      "3  David   35  San Francisco\n",
      "\n",
      "\n",
      "\n",
      "      Name  Age           City Country\n",
      "0    Alice   25       New York     USA\n",
      "1      Bob   30    Los Angeles     USA\n",
      "2  Charlie   22       Chiacago     USA\n",
      "3    David   35  San Francisco     USA\n"
     ]
    }
   ],
   "source": [
    "import pandas as pd\n",
    "\n",
    "data = [\n",
    "    ['Alice', 25, 'New York'],\n",
    "    ['Bob', 30, 'Los Angeles'],\n",
    "    ['Charlie', 22, 'Chiacago'],\n",
    "    ['David', 35, 'San Francisco']\n",
    "]\n",
    "\n",
    "columns = ['Name', 'Age', 'City']\n",
    "\n",
    "df = pd.DataFrame(data, columns=columns)\n",
    "print(df)\n",
    "print('\\n\\n')\n",
    "print(df.head(2))\n",
    "print('\\n\\n')\n",
    "print(df[df['Age'] >= 30])\n",
    "df['Country'] = 'USA'\n",
    "print('\\n\\n')\n",
    "print(df)\n",
    "df.to_csv('people.csv', index=False)"
   ]
  },
  {
   "cell_type": "code",
   "execution_count": 33,
   "metadata": {},
   "outputs": [
    {
     "name": "stdout",
     "output_type": "stream",
     "text": [
      "  Product  Quantity\n",
      "0   Apple        10\n",
      "1  Banana        15\n",
      "2  Orange        20\n",
      "3   Apple        12\n",
      "4  Banana        12\n",
      "\n",
      "\n",
      "\n",
      "  Product  Quantity\n",
      "0   Apple        22\n",
      "1  Banana        27\n",
      "2  Orange        20\n",
      "13.8\n"
     ]
    }
   ],
   "source": [
    "import pandas as pd\n",
    "\n",
    "data = [\n",
    "    ['Apple', 10],\n",
    "    ['Banana', 15],\n",
    "    ['Orange', 20],\n",
    "    ['Apple', 12],\n",
    "    ['Banana', 12],\n",
    "]\n",
    "\n",
    "columns = ['Product', 'Quantity']\n",
    "\n",
    "df = pd.DataFrame(data, columns=columns)\n",
    "print(df)\n",
    "print('\\n\\n')\n",
    "print(df.groupby('Product')['Quantity'].sum().reset_index())\n",
    "print('\\n\\n')\n",
    "print(df['Quantity'].mean())"
   ]
  },
  {
   "cell_type": "code",
   "execution_count": 36,
   "metadata": {},
   "outputs": [
    {
     "name": "stdout",
     "output_type": "stream",
     "text": [
      "[ 0  1  2  3  4  5  6  7  8  9 10]\n",
      "[1 3 5 7 9]\n",
      "[ 0 -1  2 -1  4 -1  6 -1  8 -1 10]\n"
     ]
    }
   ],
   "source": [
    "import numpy as np\n",
    "\n",
    "a = np.arange(11)\n",
    "print(a)\n",
    "o_n = a[a % 2 != 0]\n",
    "print(o_n)\n",
    "a[a % 2 != 0] = -1\n",
    "print(a)"
   ]
  },
  {
   "cell_type": "code",
   "execution_count": 54,
   "metadata": {},
   "outputs": [
    {
     "name": "stdout",
     "output_type": "stream",
     "text": [
      "[[0 1 2 3 4]\n",
      " [5 6 7 8 9]]\n",
      "\n",
      "\n",
      "\n",
      "[[1 5 2]\n",
      " [6 2 1]\n",
      " [6 1 7]]\n"
     ]
    }
   ],
   "source": [
    "import numpy as np\n",
    "\n",
    "array_1d = np.arange(10)\n",
    "\n",
    "# Reshape the 1D array into a 2D array with 2 rows\n",
    "array_2d = array_1d.reshape(2, -1)\n",
    "\n",
    "print(array_2d)\n",
    "print('\\n\\n')\n",
    "print(np.random.randint(0, 11, size=(3, 3)))"
   ]
  },
  {
   "cell_type": "code",
   "execution_count": 67,
   "metadata": {},
   "outputs": [
    {
     "name": "stdout",
     "output_type": "stream",
     "text": [
      "[[1. 0. 0.]\n",
      " [0. 1. 0.]\n",
      " [0. 0. 1.]]\n",
      "[ 4 10 18]\n",
      "(5, 9)\n"
     ]
    }
   ],
   "source": [
    "import numpy as np\n",
    "print(np.identity(3))\n",
    "\n",
    "vector1 = np.array([1, 2, 3])\n",
    "vector2 = np.array([4, 5, 6])\n",
    "\n",
    "print(vector1 * vector2)\n",
    "\n",
    "a = np.array(\n",
    "    [[2,5,4,8,9,77,5,9,9],\n",
    "    [2,5,4,8,9,77,5,9,9],\n",
    "    [2,5,4,8,9,77,5,9,9],\n",
    "    [2,5,4,8,9,77,5,9,9],\n",
    "    [2,5,4,8,9,77,5,9,9]]\n",
    ")\n",
    "\n",
    "print(a.shape)"
   ]
  },
  {
   "cell_type": "code",
   "execution_count": 73,
   "metadata": {},
   "outputs": [
    {
     "name": "stdout",
     "output_type": "stream",
     "text": [
      "[[6 2 3 4]\n",
      " [5 6 7 8]]\n",
      "[6 2 3 4]\n"
     ]
    }
   ],
   "source": [
    "import numpy as np \n",
    "\n",
    "arr = np.array([[1, 2, 3, 4], [5, 6, 7, 8]])\n",
    "\n",
    "i = np.where(arr == 1)\n",
    "\n",
    "arr[i] = 6\n",
    "\n",
    "print(arr)\n",
    "a = int(input('Enter row no')) - 1\n",
    "print(arr[a])"
   ]
  },
  {
   "cell_type": "code",
   "execution_count": 75,
   "metadata": {},
   "outputs": [
    {
     "name": "stdout",
     "output_type": "stream",
     "text": [
      "[[[1]\n",
      "  [2]\n",
      "  [3]\n",
      "  [4]\n",
      "  [5]\n",
      "  [6]\n",
      "  [7]\n",
      "  [8]]]\n"
     ]
    }
   ],
   "source": [
    "import numpy as np\n",
    "\n",
    "a = np.array([[1, 2, 3, 4], [5, 6, 7, 8]])\n",
    "\n",
    "# Reshape the array as per the expected output\n",
    "output = a.reshape(1, -1, 1)\n",
    "\n",
    "print(output)"
   ]
  },
  {
   "cell_type": "code",
   "execution_count": 78,
   "metadata": {},
   "outputs": [
    {
     "name": "stdout",
     "output_type": "stream",
     "text": [
      "2023-09-12\n",
      "14:41:11\n"
     ]
    }
   ],
   "source": [
    "import datetime\n",
    "\n",
    "current = datetime.datetime.now()\n",
    "current_date = current.strftime(\"%Y-%m-%d\")\n",
    "current_time = current.strftime(\"%H:%M:%S\")\n",
    "print(current_date)\n",
    "print(current_time)"
   ]
  }
 ],
 "metadata": {
  "kernelspec": {
   "display_name": "Python 3",
   "language": "python",
   "name": "python3"
  },
  "language_info": {
   "codemirror_mode": {
    "name": "ipython",
    "version": 3
   },
   "file_extension": ".py",
   "mimetype": "text/x-python",
   "name": "python",
   "nbconvert_exporter": "python",
   "pygments_lexer": "ipython3",
   "version": "3.10.0"
  },
  "orig_nbformat": 4
 },
 "nbformat": 4,
 "nbformat_minor": 2
}
