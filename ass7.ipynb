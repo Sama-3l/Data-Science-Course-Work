{
 "cells": [
  {
   "cell_type": "code",
   "execution_count": 6,
   "metadata": {},
   "outputs": [
    {
     "name": "stdout",
     "output_type": "stream",
     "text": [
      "Diagonal elements:\n",
      "[[99 54 33 19]\n",
      " [82 88 31  9]\n",
      " [17 60 66 36]\n",
      " [14 46 98 15]]\n",
      "[99 88 66 15]\n"
     ]
    }
   ],
   "source": [
    "import numpy as np\n",
    "\n",
    "r = np.random.rand(4, 4)\n",
    "r = (r * 100).astype(int)\n",
    "d = r.diagonal()\n",
    "\n",
    "print(r)\n",
    "print(d)"
   ]
  },
  {
   "cell_type": "code",
   "execution_count": 10,
   "metadata": {},
   "outputs": [
    {
     "name": "stdout",
     "output_type": "stream",
     "text": [
      "(array([126, 188, 179, 132]), array([238, 249, 138]))\n"
     ]
    }
   ],
   "source": [
    "r = np.random.rand(3,4)\n",
    "r = (r*100).astype(int)\n",
    "\n",
    "def get_sum(r):\n",
    "    cs = np.sum(r, axis=0)\n",
    "    rs = np.sum(r, axis=1)\n",
    "    return cs, rs\n",
    "\n",
    "print(get_sum(r))"
   ]
  },
  {
   "cell_type": "code",
   "execution_count": 13,
   "metadata": {},
   "outputs": [
    {
     "name": "stdout",
     "output_type": "stream",
     "text": [
      "Error: Cannot reshape the input array to shape (4, 1)\n"
     ]
    }
   ],
   "source": [
    "import numpy as np\n",
    "\n",
    "def reshape_array(arr, ta):\n",
    "    try:\n",
    "        a = arr.reshape(ta)\n",
    "        return a\n",
    "    except ValueError:\n",
    "        raise ValueError(f\"Cannot reshape the input array to shape {ta}\")\n",
    "\n",
    "\n",
    "arr = np.array([int(item) for item in input('Enter 1D array').split()])\n",
    "ta = tuple(int(item) for item in input('Enter 2d dimensions').split())\n",
    "\n",
    "try:\n",
    "    result = reshape_array(arr, ta)\n",
    "    print(\"Reshaped array:\")\n",
    "    print(result)\n",
    "except ValueError as e:\n",
    "    print(f\"Error: {e}\")"
   ]
  },
  {
   "cell_type": "code",
   "execution_count": 17,
   "metadata": {},
   "outputs": [],
   "source": [
    "def sum(r):\n",
    "    return r.sum()"
   ]
  },
  {
   "cell_type": "code",
   "execution_count": 22,
   "metadata": {},
   "outputs": [
    {
     "data": {
      "text/plain": [
       "array([['(1+3j)', '(2+2j)', '(3+1j)', '(4-9j)'],\n",
       "       ['(1+3j)', '(2+2j)', '(3+1j)', '(4-9j)'],\n",
       "       ['(1+3j)', '(2+2j)', '(3+1j)', '(4-9j)']], dtype='<U64')"
      ]
     },
     "execution_count": 22,
     "metadata": {},
     "output_type": "execute_result"
    }
   ],
   "source": [
    "def convert_array_type(input_array, data_type):\n",
    "    try:\n",
    "        # Attempt to convert the input array to the specified data type\n",
    "        converted_array = input_array.astype(data_type)\n",
    "        return converted_array\n",
    "    except ValueError:\n",
    "        raise ValueError(\"Conversion to the specified data type failed.\")\n",
    "    \n",
    "arr = np.array(\n",
    "    [[1+3j,2 + 2j,3 + 1j,4 - 9j],\n",
    "    [1+3j,2 + 2j,3 + 1j,4 - 9j],\n",
    "    [1+3j,2 + 2j,3 + 1j,4 - 9j]]\n",
    ")\n",
    "convert_array_type(arr, str)"
   ]
  },
  {
   "cell_type": "code",
   "execution_count": 46,
   "metadata": {},
   "outputs": [
    {
     "name": "stdout",
     "output_type": "stream",
     "text": [
      "Joined array:\n",
      "[[1 2 5 6 7 8]]\n"
     ]
    }
   ],
   "source": [
    "def join_arrays(*arr, axis=0):\n",
    "    try:\n",
    "        result = np.concatenate(arr, axis=axis)\n",
    "        return result\n",
    "    except ValueError:\n",
    "        raise ValueError(\"Concatenation of input arrays failed.\")\n",
    "    \n",
    "a1 = np.array([[1, 2]])\n",
    "a2 = np.array([[5, 6]])\n",
    "a3 = np.array([[7, 8]])\n",
    "\n",
    "join_arrays(a1, a2, a3, axis=0)\n",
    "\n",
    "try:\n",
    "    result = join_arrays(a1, a2, a3, axis=1)\n",
    "    print(\"Joined array:\")\n",
    "    print(result)\n",
    "except ValueError as e:\n",
    "    print(f\"Error: {e}\")"
   ]
  },
  {
   "cell_type": "code",
   "execution_count": 82,
   "metadata": {},
   "outputs": [
    {
     "name": "stdout",
     "output_type": "stream",
     "text": [
      "Split into equal-sized subarrays:\n",
      "[[1 2 4 5]]\n",
      "[[3 4 4 5]]\n",
      "[[5 6 2 1]]\n",
      "[[ 7  8 10 12]]\n"
     ]
    }
   ],
   "source": [
    "import numpy as np\n",
    "\n",
    "def split_numpy_array(arr, k):\n",
    "    if k <= 0 or len(arr) % k != 0:\n",
    "        return None  # Cannot split into k equal-sized subarrays\n",
    "\n",
    "    subarray_size = len(arr) // k\n",
    "    subarrays = [arr[i * subarray_size : (i + 1) * subarray_size] for i in range(k)]\n",
    "\n",
    "    return subarrays\n",
    "\n",
    "# Example usage:\n",
    "original_array = np.array([[1, 2, 4, 5], [3, 4, 4, 5], [5, 6, 2, 1], [7, 8, 10, 12]])\n",
    "k = 4\n",
    "\n",
    "result = split_numpy_array(original_array, k)\n",
    "if result is not None:\n",
    "    print(\"Split into equal-sized subarrays:\")\n",
    "    for subarray in result:\n",
    "        print(subarray)\n",
    "else:\n",
    "    print(\"Cannot split into equal-sized subarrays.\")\n"
   ]
  },
  {
   "cell_type": "code",
   "execution_count": 67,
   "metadata": {},
   "outputs": [
    {
     "name": "stdout",
     "output_type": "stream",
     "text": [
      "[[0.98361261 0.76118837 0.27907648 0.07580825]\n",
      " [0.4466552  0.76739249 0.08583247 0.57193585]\n",
      " [0.86943717 0.62223408 0.11125443 0.25284174]\n",
      " [0.56069939 0.62582662 0.61564369 0.12900942]]\n",
      "[[0.4466552  0.76739249 0.08583247 0.57193585]\n",
      " [0.86943717 0.62223408 0.11125443 0.25284174]\n",
      " [0.98361261 0.76118837 0.27907648 0.07580825]\n",
      " [0.56069939 0.62582662 0.61564369 0.12900942]]\n"
     ]
    }
   ],
   "source": [
    "\n",
    "def sort_by_column(arr, k):\n",
    "    sorted_indices = np.argsort(arr[:, k])\n",
    "    sorted_array = arr[sorted_indices]\n",
    "    return sorted_array\n",
    "\n",
    "arr = np.random.rand(4,4)\n",
    "print(arr)\n",
    "try:\n",
    "    print(sort_by_column(arr, 2))\n",
    "except IndexError as e:\n",
    "    print(\"Error\")"
   ]
  },
  {
   "cell_type": "code",
   "execution_count": 1,
   "metadata": {},
   "outputs": [],
   "source": [
    "import keyboard, time\n",
    "\n",
    "a = '''\n",
    "a = {\n",
    "    \"length\" : [4,5,6,7,8],\n",
    "    \"width\" : [2,3,2.5,4,3.5]\n",
    "}\n",
    "\n",
    "df = pd.DataFrame(a)\n",
    "\n",
    "def area(df):\n",
    "    a = []\n",
    "    for i in range(df.shape[0]):\n",
    "        area = df.loc[i][0] * df.loc[i][1]\n",
    "        a.append(area)\n",
    "    return a\n",
    "\n",
    "df['Area'] = area(df)\n",
    "df\n",
    "\n",
    "'''\n",
    "time.sleep(2)\n",
    "keyboard.write(a)"
   ]
  },
  {
   "cell_type": "code",
   "execution_count": null,
   "metadata": {},
   "outputs": [],
   "source": []
  }
 ],
 "metadata": {
  "kernelspec": {
   "display_name": "Python 3",
   "language": "python",
   "name": "python3"
  },
  "language_info": {
   "codemirror_mode": {
    "name": "ipython",
    "version": 3
   },
   "file_extension": ".py",
   "mimetype": "text/x-python",
   "name": "python",
   "nbconvert_exporter": "python",
   "pygments_lexer": "ipython3",
   "version": "3.10.0"
  },
  "orig_nbformat": 4
 },
 "nbformat": 4,
 "nbformat_minor": 2
}
