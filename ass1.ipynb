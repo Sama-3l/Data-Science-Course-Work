{
 "cells": [
  {
   "cell_type": "code",
   "execution_count": 2,
   "metadata": {},
   "outputs": [
    {
     "name": "stdout",
     "output_type": "stream",
     "text": [
      "Part 1\n",
      "3\n",
      "2\n",
      "Part 2\n",
      "3\n",
      "2\n"
     ]
    }
   ],
   "source": [
    "#q1\n",
    "x = 2\n",
    "y = 3\n",
    "#p1\n",
    "x, y = y, x\n",
    "print(\"Part 1\")\n",
    "print(x)\n",
    "print(y)\n",
    "#p2\n",
    "\n",
    "x = 2\n",
    "y = 3\n",
    "t = x\n",
    "x = y\n",
    "y = t\n",
    "\n",
    "print(\"Part 2\")\n",
    "print(x)\n",
    "print(y)\n"
   ]
  },
  {
   "cell_type": "code",
   "execution_count": 3,
   "metadata": {},
   "outputs": [
    {
     "name": "stdout",
     "output_type": "stream",
     "text": [
      "2\n"
     ]
    }
   ],
   "source": [
    "#q2\n",
    "print(len(input(\"Give input\")))"
   ]
  },
  {
   "cell_type": "code",
   "execution_count": 4,
   "metadata": {},
   "outputs": [
    {
     "name": "stdout",
     "output_type": "stream",
     "text": [
      "78.5\n"
     ]
    }
   ],
   "source": [
    "#q3\n",
    "\n",
    "print(int(input(\"Enter radius\")) ** 2 * 3.14)"
   ]
  },
  {
   "cell_type": "code",
   "execution_count": 6,
   "metadata": {},
   "outputs": [
    {
     "name": "stdout",
     "output_type": "stream",
     "text": [
      "3\n",
      "3\n",
      "3\n"
     ]
    }
   ],
   "source": [
    "#q4\n",
    "x, y, z = 3, 3, 3\n",
    "print(x)\n",
    "print(y)\n",
    "print(z)"
   ]
  },
  {
   "cell_type": "code",
   "execution_count": 7,
   "metadata": {},
   "outputs": [
    {
     "name": "stdout",
     "output_type": "stream",
     "text": [
      "['5', ' 2', ' 4']\n"
     ]
    }
   ],
   "source": [
    "#q5\n",
    "a = input(\"Enter the numbers\")\n",
    "print(a.split(','))"
   ]
  },
  {
   "cell_type": "code",
   "execution_count": 11,
   "metadata": {},
   "outputs": [
    {
     "name": "stdout",
     "output_type": "stream",
     "text": [
      "evhgaR\n",
      "arhsi\n"
     ]
    }
   ],
   "source": [
    "#q6\n",
    "a = input(\"Enter first name\")\n",
    "b = input(\"Enter last name\")\n",
    "\n",
    "print(a[: :-1])\n",
    "print(b[: :-1])"
   ]
  },
  {
   "cell_type": "code",
   "execution_count": 14,
   "metadata": {},
   "outputs": [
    {
     "name": "stdout",
     "output_type": "stream",
     "text": [
      "Raghvendra Mishra\n",
      "21\n",
      "IIITDM\n"
     ]
    }
   ],
   "source": [
    "#q7\n",
    "name = input(\"Enter name\")\n",
    "age = input(\"Enter age\")\n",
    "address = input(\"Enter address\")\n",
    "\n",
    "print(name + '\\n' + age + '\\n' + address)"
   ]
  },
  {
   "cell_type": "code",
   "execution_count": 36,
   "metadata": {},
   "outputs": [
    {
     "data": {
      "text/plain": [
       "10"
      ]
     },
     "execution_count": 36,
     "metadata": {},
     "output_type": "execute_result"
    }
   ],
   "source": [
    "#q8\n",
    "a = int(input(\"Enter a number\"))\n",
    "s = 0\n",
    "while a != 0:\n",
    "    s = s + (a % 10)\n",
    "    a = a // 10\n",
    "s"
   ]
  },
  {
   "cell_type": "code",
   "execution_count": 35,
   "metadata": {},
   "outputs": [
    {
     "data": {
      "text/plain": [
       "2"
      ]
     },
     "execution_count": 35,
     "metadata": {},
     "output_type": "execute_result"
    }
   ],
   "source": [
    "#q9\n",
    "s = input()\n",
    "s = s.split(' ')\n",
    "p = 0\n",
    "for word in s:\n",
    "    if word == 'Emma':\n",
    "        p += 1\n",
    "p"
   ]
  },
  {
   "cell_type": "code",
   "execution_count": null,
   "metadata": {},
   "outputs": [],
   "source": [
    "#q10\n",
    "a = \"Hello\"\n",
    "print(a)"
   ]
  },
  {
   "cell_type": "code",
   "execution_count": 37,
   "metadata": {},
   "outputs": [
    {
     "name": "stdout",
     "output_type": "stream",
     "text": [
      "10\n",
      "200\n",
      "0.5\n",
      "0\n"
     ]
    }
   ],
   "source": [
    "#q11\n",
    "x = 10\n",
    "y = 20\n",
    "print(x % y)\n",
    "print(x * y)\n",
    "print(x / y)\n",
    "print(x // y)"
   ]
  },
  {
   "cell_type": "code",
   "execution_count": 39,
   "metadata": {},
   "outputs": [
    {
     "data": {
      "text/plain": [
       "{'first name': ['Sam', 'Roger', 'Sachin', 'Virat', 'Raghvendra'],\n",
       " 'last name': ['Mccoy', 'Frederer', 'Tendulkar', 'Kohli', 'Mishra'],\n",
       " 'age': ['44', '45', '55', '35', '20']}"
      ]
     },
     "execution_count": 39,
     "metadata": {},
     "output_type": "execute_result"
    }
   ],
   "source": [
    "#q12\n",
    "l = {\n",
    "    \"first name\" : [],\n",
    "    \"last name\" : [],\n",
    "    \"age\": []\n",
    "}\n",
    "\n",
    "for i in range(5):\n",
    "    l['first name'].append(input('Enter first name'))\n",
    "    l['last name'].append(input('Enter last name'))\n",
    "    l['age'].append(input('Enter age'))\n",
    "\n",
    "l"
   ]
  },
  {
   "cell_type": "code",
   "execution_count": 49,
   "metadata": {},
   "outputs": [
    {
     "name": "stdout",
     "output_type": "stream",
     "text": [
      "['Hello', 'world', 'Of', 'Computers']\n",
      "HelloworldOfComputers\n",
      "['You', 'are', 'Pretty', 'Confused']\n",
      "YouarePrettyConfused\n",
      "['Go', 'home', 'rest', 'dance']\n",
      "Gohomerestdance\n"
     ]
    }
   ],
   "source": [
    "#q13\n",
    "a = \"Hello world\"\n",
    "l = a.split(' ')\n",
    "l.append('Of')\n",
    "l.append('Computers')\n",
    "print(l)\n",
    "y = \"\".join(l)\n",
    "print(y)\n",
    "\n",
    "a = \"You are\"\n",
    "l = a.split(' ')\n",
    "l.append('Pretty')\n",
    "l.append('Confused')\n",
    "print(l)\n",
    "y = \"\".join(l)\n",
    "print(y)\n",
    "\n",
    "a = \"Go home\"\n",
    "l = a.split(' ')\n",
    "l.append('rest')\n",
    "l.append('dance')\n",
    "print(l)\n",
    "y = \"\".join(l)\n",
    "print(y)"
   ]
  },
  {
   "cell_type": "code",
   "execution_count": 48,
   "metadata": {},
   "outputs": [
    {
     "name": "stdout",
     "output_type": "stream",
     "text": [
      "3140.0\n"
     ]
    }
   ],
   "source": [
    "#q14\n",
    "print(3.14*10*10*10)"
   ]
  }
 ],
 "metadata": {
  "kernelspec": {
   "display_name": "Python 3",
   "language": "python",
   "name": "python3"
  },
  "language_info": {
   "codemirror_mode": {
    "name": "ipython",
    "version": 3
   },
   "file_extension": ".py",
   "mimetype": "text/x-python",
   "name": "python",
   "nbconvert_exporter": "python",
   "pygments_lexer": "ipython3",
   "version": "3.10.0"
  },
  "orig_nbformat": 4
 },
 "nbformat": 4,
 "nbformat_minor": 2
}
